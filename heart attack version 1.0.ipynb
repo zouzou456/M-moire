{
 "cells": [
  {
   "cell_type": "code",
   "execution_count": 1,
   "metadata": {
    "execution": {
     "iopub.execute_input": "2023-10-25T15:07:17.097669Z",
     "iopub.status.busy": "2023-10-25T15:07:17.096862Z",
     "iopub.status.idle": "2023-10-25T15:07:19.620414Z",
     "shell.execute_reply": "2023-10-25T15:07:19.619546Z"
    },
    "papermill": {
     "duration": 2.542841,
     "end_time": "2023-10-25T15:07:19.623113",
     "exception": false,
     "start_time": "2023-10-25T15:07:17.080272",
     "status": "completed"
    },
    "tags": []
   },
   "outputs": [],
   "source": [
    "import pandas as pd\n",
    "import numpy as np\n",
    "import seaborn as sns\n",
    "import matplotlib.pyplot as plt\n",
    "import os"
   ]
  },
  {
   "cell_type": "markdown",
   "metadata": {
    "papermill": {
     "duration": 0.014888,
     "end_time": "2023-10-25T15:07:19.654291",
     "exception": false,
     "start_time": "2023-10-25T15:07:19.639403",
     "status": "completed"
    },
    "tags": []
   },
   "source": [
    "## DONNEES\n",
    "\n",
    "Ce projet concerne le data challenge kaggle \"Heart Attack Risk Analysis\" situé à l'adresse https://www.kaggle.com/competitions/heart-attack-risk-analysis/data. Toutes les données qui sont utilisées dans ce notebook peuvent y être téléchargées."
   ]
  },
  {
   "cell_type": "code",
   "execution_count": 2,
   "metadata": {
    "execution": {
     "iopub.execute_input": "2023-10-25T15:07:19.686678Z",
     "iopub.status.busy": "2023-10-25T15:07:19.685735Z",
     "iopub.status.idle": "2023-10-25T15:07:19.786153Z",
     "shell.execute_reply": "2023-10-25T15:07:19.784900Z"
    },
    "papermill": {
     "duration": 0.119363,
     "end_time": "2023-10-25T15:07:19.788665",
     "exception": false,
     "start_time": "2023-10-25T15:07:19.669302",
     "status": "completed"
    },
    "tags": []
   },
   "outputs": [
    {
     "data": {
      "text/html": [
       "<div>\n",
       "<style scoped>\n",
       "    .dataframe tbody tr th:only-of-type {\n",
       "        vertical-align: middle;\n",
       "    }\n",
       "\n",
       "    .dataframe tbody tr th {\n",
       "        vertical-align: top;\n",
       "    }\n",
       "\n",
       "    .dataframe thead th {\n",
       "        text-align: right;\n",
       "    }\n",
       "</style>\n",
       "<table border=\"1\" class=\"dataframe\">\n",
       "  <thead>\n",
       "    <tr style=\"text-align: right;\">\n",
       "      <th></th>\n",
       "      <th>Patient ID</th>\n",
       "      <th>Age</th>\n",
       "      <th>Sex</th>\n",
       "      <th>Cholesterol</th>\n",
       "      <th>Blood Pressure</th>\n",
       "      <th>Heart Rate</th>\n",
       "      <th>Diabetes</th>\n",
       "      <th>Family History</th>\n",
       "      <th>Smoking</th>\n",
       "      <th>Obesity</th>\n",
       "      <th>...</th>\n",
       "      <th>Sedentary Hours Per Day</th>\n",
       "      <th>Income</th>\n",
       "      <th>BMI</th>\n",
       "      <th>Triglycerides</th>\n",
       "      <th>Physical Activity Days Per Week</th>\n",
       "      <th>Sleep Hours Per Day</th>\n",
       "      <th>Country</th>\n",
       "      <th>Continent</th>\n",
       "      <th>Hemisphere</th>\n",
       "      <th>Heart Attack Risk</th>\n",
       "    </tr>\n",
       "  </thead>\n",
       "  <tbody>\n",
       "    <tr>\n",
       "      <td>0</td>\n",
       "      <td>RDG0550</td>\n",
       "      <td>33</td>\n",
       "      <td>Male</td>\n",
       "      <td>200</td>\n",
       "      <td>129/90</td>\n",
       "      <td>48</td>\n",
       "      <td>0</td>\n",
       "      <td>1</td>\n",
       "      <td>1</td>\n",
       "      <td>1</td>\n",
       "      <td>...</td>\n",
       "      <td>0.138443</td>\n",
       "      <td>184066</td>\n",
       "      <td>30.449815</td>\n",
       "      <td>63</td>\n",
       "      <td>6</td>\n",
       "      <td>7</td>\n",
       "      <td>Argentina</td>\n",
       "      <td>South America</td>\n",
       "      <td>Southern Hemisphere</td>\n",
       "      <td>1</td>\n",
       "    </tr>\n",
       "    <tr>\n",
       "      <td>1</td>\n",
       "      <td>NMA3851</td>\n",
       "      <td>56</td>\n",
       "      <td>Female</td>\n",
       "      <td>262</td>\n",
       "      <td>159/105</td>\n",
       "      <td>46</td>\n",
       "      <td>1</td>\n",
       "      <td>0</td>\n",
       "      <td>1</td>\n",
       "      <td>0</td>\n",
       "      <td>...</td>\n",
       "      <td>0.369552</td>\n",
       "      <td>211755</td>\n",
       "      <td>34.973685</td>\n",
       "      <td>333</td>\n",
       "      <td>7</td>\n",
       "      <td>8</td>\n",
       "      <td>Nigeria</td>\n",
       "      <td>Africa</td>\n",
       "      <td>Northern Hemisphere</td>\n",
       "      <td>1</td>\n",
       "    </tr>\n",
       "    <tr>\n",
       "      <td>2</td>\n",
       "      <td>TUI5807</td>\n",
       "      <td>19</td>\n",
       "      <td>Female</td>\n",
       "      <td>140</td>\n",
       "      <td>161/109</td>\n",
       "      <td>54</td>\n",
       "      <td>0</td>\n",
       "      <td>1</td>\n",
       "      <td>0</td>\n",
       "      <td>0</td>\n",
       "      <td>...</td>\n",
       "      <td>8.646334</td>\n",
       "      <td>252203</td>\n",
       "      <td>30.554246</td>\n",
       "      <td>537</td>\n",
       "      <td>2</td>\n",
       "      <td>10</td>\n",
       "      <td>Thailand</td>\n",
       "      <td>Asia</td>\n",
       "      <td>Northern Hemisphere</td>\n",
       "      <td>0</td>\n",
       "    </tr>\n",
       "    <tr>\n",
       "      <td>3</td>\n",
       "      <td>YYT5016</td>\n",
       "      <td>50</td>\n",
       "      <td>Female</td>\n",
       "      <td>163</td>\n",
       "      <td>120/62</td>\n",
       "      <td>53</td>\n",
       "      <td>0</td>\n",
       "      <td>1</td>\n",
       "      <td>1</td>\n",
       "      <td>1</td>\n",
       "      <td>...</td>\n",
       "      <td>1.107884</td>\n",
       "      <td>121954</td>\n",
       "      <td>35.390265</td>\n",
       "      <td>591</td>\n",
       "      <td>0</td>\n",
       "      <td>9</td>\n",
       "      <td>Spain</td>\n",
       "      <td>Europe</td>\n",
       "      <td>Southern Hemisphere</td>\n",
       "      <td>1</td>\n",
       "    </tr>\n",
       "    <tr>\n",
       "      <td>4</td>\n",
       "      <td>ZAC5937</td>\n",
       "      <td>89</td>\n",
       "      <td>Female</td>\n",
       "      <td>144</td>\n",
       "      <td>153/110</td>\n",
       "      <td>92</td>\n",
       "      <td>1</td>\n",
       "      <td>0</td>\n",
       "      <td>1</td>\n",
       "      <td>0</td>\n",
       "      <td>...</td>\n",
       "      <td>1.337570</td>\n",
       "      <td>180121</td>\n",
       "      <td>39.575483</td>\n",
       "      <td>145</td>\n",
       "      <td>2</td>\n",
       "      <td>5</td>\n",
       "      <td>Germany</td>\n",
       "      <td>Europe</td>\n",
       "      <td>Northern Hemisphere</td>\n",
       "      <td>1</td>\n",
       "    </tr>\n",
       "  </tbody>\n",
       "</table>\n",
       "<p>5 rows × 26 columns</p>\n",
       "</div>"
      ],
      "text/plain": [
       "  Patient ID  Age     Sex  Cholesterol Blood Pressure  Heart Rate  Diabetes  \\\n",
       "0    RDG0550   33    Male          200         129/90          48         0   \n",
       "1    NMA3851   56  Female          262        159/105          46         1   \n",
       "2    TUI5807   19  Female          140        161/109          54         0   \n",
       "3    YYT5016   50  Female          163         120/62          53         0   \n",
       "4    ZAC5937   89  Female          144        153/110          92         1   \n",
       "\n",
       "   Family History  Smoking  Obesity  ...  Sedentary Hours Per Day  Income  \\\n",
       "0               1        1        1  ...                 0.138443  184066   \n",
       "1               0        1        0  ...                 0.369552  211755   \n",
       "2               1        0        0  ...                 8.646334  252203   \n",
       "3               1        1        1  ...                 1.107884  121954   \n",
       "4               0        1        0  ...                 1.337570  180121   \n",
       "\n",
       "         BMI  Triglycerides  Physical Activity Days Per Week  \\\n",
       "0  30.449815             63                                6   \n",
       "1  34.973685            333                                7   \n",
       "2  30.554246            537                                2   \n",
       "3  35.390265            591                                0   \n",
       "4  39.575483            145                                2   \n",
       "\n",
       "   Sleep Hours Per Day    Country      Continent           Hemisphere  \\\n",
       "0                    7  Argentina  South America  Southern Hemisphere   \n",
       "1                    8    Nigeria         Africa  Northern Hemisphere   \n",
       "2                   10   Thailand           Asia  Northern Hemisphere   \n",
       "3                    9      Spain         Europe  Southern Hemisphere   \n",
       "4                    5    Germany         Europe  Northern Hemisphere   \n",
       "\n",
       "   Heart Attack Risk  \n",
       "0                  1  \n",
       "1                  1  \n",
       "2                  0  \n",
       "3                  1  \n",
       "4                  1  \n",
       "\n",
       "[5 rows x 26 columns]"
      ]
     },
     "execution_count": 2,
     "metadata": {},
     "output_type": "execute_result"
    }
   ],
   "source": [
    "train = pd.read_csv('train.csv')\n",
    "train.head()"
   ]
  },
  {
   "cell_type": "code",
   "execution_count": 3,
   "metadata": {
    "execution": {
     "iopub.execute_input": "2023-10-25T15:07:19.822581Z",
     "iopub.status.busy": "2023-10-25T15:07:19.822175Z",
     "iopub.status.idle": "2023-10-25T15:07:19.869679Z",
     "shell.execute_reply": "2023-10-25T15:07:19.868713Z"
    },
    "papermill": {
     "duration": 0.067118,
     "end_time": "2023-10-25T15:07:19.872157",
     "exception": false,
     "start_time": "2023-10-25T15:07:19.805039",
     "status": "completed"
    },
    "tags": []
   },
   "outputs": [
    {
     "data": {
      "text/html": [
       "<div>\n",
       "<style scoped>\n",
       "    .dataframe tbody tr th:only-of-type {\n",
       "        vertical-align: middle;\n",
       "    }\n",
       "\n",
       "    .dataframe tbody tr th {\n",
       "        vertical-align: top;\n",
       "    }\n",
       "\n",
       "    .dataframe thead th {\n",
       "        text-align: right;\n",
       "    }\n",
       "</style>\n",
       "<table border=\"1\" class=\"dataframe\">\n",
       "  <thead>\n",
       "    <tr style=\"text-align: right;\">\n",
       "      <th></th>\n",
       "      <th>Patient ID</th>\n",
       "      <th>Age</th>\n",
       "      <th>Sex</th>\n",
       "      <th>Cholesterol</th>\n",
       "      <th>Blood Pressure</th>\n",
       "      <th>Heart Rate</th>\n",
       "      <th>Diabetes</th>\n",
       "      <th>Family History</th>\n",
       "      <th>Smoking</th>\n",
       "      <th>Obesity</th>\n",
       "      <th>...</th>\n",
       "      <th>Stress Level</th>\n",
       "      <th>Sedentary Hours Per Day</th>\n",
       "      <th>Income</th>\n",
       "      <th>BMI</th>\n",
       "      <th>Triglycerides</th>\n",
       "      <th>Physical Activity Days Per Week</th>\n",
       "      <th>Sleep Hours Per Day</th>\n",
       "      <th>Country</th>\n",
       "      <th>Continent</th>\n",
       "      <th>Hemisphere</th>\n",
       "    </tr>\n",
       "  </thead>\n",
       "  <tbody>\n",
       "    <tr>\n",
       "      <td>0</td>\n",
       "      <td>BMW7812</td>\n",
       "      <td>67</td>\n",
       "      <td>Male</td>\n",
       "      <td>208</td>\n",
       "      <td>158/88</td>\n",
       "      <td>72</td>\n",
       "      <td>0</td>\n",
       "      <td>0</td>\n",
       "      <td>1</td>\n",
       "      <td>0</td>\n",
       "      <td>...</td>\n",
       "      <td>9</td>\n",
       "      <td>6.615001</td>\n",
       "      <td>261404</td>\n",
       "      <td>31.251233</td>\n",
       "      <td>286</td>\n",
       "      <td>0</td>\n",
       "      <td>6</td>\n",
       "      <td>Argentina</td>\n",
       "      <td>South America</td>\n",
       "      <td>Southern Hemisphere</td>\n",
       "    </tr>\n",
       "    <tr>\n",
       "      <td>1</td>\n",
       "      <td>XXM0972</td>\n",
       "      <td>84</td>\n",
       "      <td>Male</td>\n",
       "      <td>220</td>\n",
       "      <td>131/68</td>\n",
       "      <td>107</td>\n",
       "      <td>0</td>\n",
       "      <td>0</td>\n",
       "      <td>1</td>\n",
       "      <td>1</td>\n",
       "      <td>...</td>\n",
       "      <td>4</td>\n",
       "      <td>10.543780</td>\n",
       "      <td>122093</td>\n",
       "      <td>22.221862</td>\n",
       "      <td>370</td>\n",
       "      <td>6</td>\n",
       "      <td>7</td>\n",
       "      <td>Japan</td>\n",
       "      <td>Asia</td>\n",
       "      <td>Northern Hemisphere</td>\n",
       "    </tr>\n",
       "    <tr>\n",
       "      <td>2</td>\n",
       "      <td>RQX1211</td>\n",
       "      <td>60</td>\n",
       "      <td>Male</td>\n",
       "      <td>145</td>\n",
       "      <td>160/98</td>\n",
       "      <td>71</td>\n",
       "      <td>1</td>\n",
       "      <td>0</td>\n",
       "      <td>1</td>\n",
       "      <td>0</td>\n",
       "      <td>...</td>\n",
       "      <td>8</td>\n",
       "      <td>5.994228</td>\n",
       "      <td>234966</td>\n",
       "      <td>29.162319</td>\n",
       "      <td>247</td>\n",
       "      <td>7</td>\n",
       "      <td>7</td>\n",
       "      <td>Canada</td>\n",
       "      <td>North America</td>\n",
       "      <td>Northern Hemisphere</td>\n",
       "    </tr>\n",
       "    <tr>\n",
       "      <td>3</td>\n",
       "      <td>RVN4963</td>\n",
       "      <td>45</td>\n",
       "      <td>Male</td>\n",
       "      <td>294</td>\n",
       "      <td>130/84</td>\n",
       "      <td>66</td>\n",
       "      <td>0</td>\n",
       "      <td>0</td>\n",
       "      <td>1</td>\n",
       "      <td>1</td>\n",
       "      <td>...</td>\n",
       "      <td>9</td>\n",
       "      <td>7.007392</td>\n",
       "      <td>216565</td>\n",
       "      <td>25.120605</td>\n",
       "      <td>360</td>\n",
       "      <td>4</td>\n",
       "      <td>6</td>\n",
       "      <td>France</td>\n",
       "      <td>Europe</td>\n",
       "      <td>Northern Hemisphere</td>\n",
       "    </tr>\n",
       "    <tr>\n",
       "      <td>4</td>\n",
       "      <td>NCU1956</td>\n",
       "      <td>36</td>\n",
       "      <td>Male</td>\n",
       "      <td>133</td>\n",
       "      <td>161/90</td>\n",
       "      <td>97</td>\n",
       "      <td>1</td>\n",
       "      <td>0</td>\n",
       "      <td>1</td>\n",
       "      <td>1</td>\n",
       "      <td>...</td>\n",
       "      <td>10</td>\n",
       "      <td>10.963544</td>\n",
       "      <td>223132</td>\n",
       "      <td>22.386804</td>\n",
       "      <td>605</td>\n",
       "      <td>5</td>\n",
       "      <td>10</td>\n",
       "      <td>Canada</td>\n",
       "      <td>North America</td>\n",
       "      <td>Northern Hemisphere</td>\n",
       "    </tr>\n",
       "  </tbody>\n",
       "</table>\n",
       "<p>5 rows × 25 columns</p>\n",
       "</div>"
      ],
      "text/plain": [
       "  Patient ID  Age   Sex  Cholesterol Blood Pressure  Heart Rate  Diabetes  \\\n",
       "0    BMW7812   67  Male          208         158/88          72         0   \n",
       "1    XXM0972   84  Male          220         131/68         107         0   \n",
       "2    RQX1211   60  Male          145         160/98          71         1   \n",
       "3    RVN4963   45  Male          294         130/84          66         0   \n",
       "4    NCU1956   36  Male          133         161/90          97         1   \n",
       "\n",
       "   Family History  Smoking  Obesity  ...  Stress Level  \\\n",
       "0               0        1        0  ...             9   \n",
       "1               0        1        1  ...             4   \n",
       "2               0        1        0  ...             8   \n",
       "3               0        1        1  ...             9   \n",
       "4               0        1        1  ...            10   \n",
       "\n",
       "   Sedentary Hours Per Day  Income        BMI  Triglycerides  \\\n",
       "0                 6.615001  261404  31.251233            286   \n",
       "1                10.543780  122093  22.221862            370   \n",
       "2                 5.994228  234966  29.162319            247   \n",
       "3                 7.007392  216565  25.120605            360   \n",
       "4                10.963544  223132  22.386804            605   \n",
       "\n",
       "   Physical Activity Days Per Week  Sleep Hours Per Day    Country  \\\n",
       "0                                0                    6  Argentina   \n",
       "1                                6                    7      Japan   \n",
       "2                                7                    7     Canada   \n",
       "3                                4                    6     France   \n",
       "4                                5                   10     Canada   \n",
       "\n",
       "       Continent           Hemisphere  \n",
       "0  South America  Southern Hemisphere  \n",
       "1           Asia  Northern Hemisphere  \n",
       "2  North America  Northern Hemisphere  \n",
       "3         Europe  Northern Hemisphere  \n",
       "4  North America  Northern Hemisphere  \n",
       "\n",
       "[5 rows x 25 columns]"
      ]
     },
     "execution_count": 3,
     "metadata": {},
     "output_type": "execute_result"
    }
   ],
   "source": [
    "test = pd.read_csv('test.csv')\n",
    "test.head()"
   ]
  },
  {
   "cell_type": "markdown",
   "metadata": {
    "papermill": {
     "duration": 0.015946,
     "end_time": "2023-10-25T15:07:19.904250",
     "exception": false,
     "start_time": "2023-10-25T15:07:19.888304",
     "status": "completed"
    },
    "tags": []
   },
   "source": [
    "## VISUALISATION"
   ]
  },
  {
   "cell_type": "code",
   "execution_count": 4,
   "metadata": {
    "execution": {
     "iopub.execute_input": "2023-10-25T15:07:19.937979Z",
     "iopub.status.busy": "2023-10-25T15:07:19.937074Z",
     "iopub.status.idle": "2023-10-25T15:07:19.949124Z",
     "shell.execute_reply": "2023-10-25T15:07:19.948412Z"
    },
    "papermill": {
     "duration": 0.031289,
     "end_time": "2023-10-25T15:07:19.951327",
     "exception": false,
     "start_time": "2023-10-25T15:07:19.920038",
     "status": "completed"
    },
    "tags": []
   },
   "outputs": [
    {
     "data": {
      "text/plain": [
       "Patient ID                         0\n",
       "Age                                0\n",
       "Sex                                0\n",
       "Cholesterol                        0\n",
       "Blood Pressure                     0\n",
       "Heart Rate                         0\n",
       "Diabetes                           0\n",
       "Family History                     0\n",
       "Smoking                            0\n",
       "Obesity                            0\n",
       "Alcohol Consumption                0\n",
       "Exercise Hours Per Week            0\n",
       "Diet                               0\n",
       "Previous Heart Problems            0\n",
       "Medication Use                     0\n",
       "Stress Level                       0\n",
       "Sedentary Hours Per Day            0\n",
       "Income                             0\n",
       "BMI                                0\n",
       "Triglycerides                      0\n",
       "Physical Activity Days Per Week    0\n",
       "Sleep Hours Per Day                0\n",
       "Country                            0\n",
       "Continent                          0\n",
       "Hemisphere                         0\n",
       "Heart Attack Risk                  0\n",
       "dtype: int64"
      ]
     },
     "execution_count": 4,
     "metadata": {},
     "output_type": "execute_result"
    }
   ],
   "source": [
    "train.isnull().sum()"
   ]
  },
  {
   "cell_type": "code",
   "execution_count": 5,
   "metadata": {
    "execution": {
     "iopub.execute_input": "2023-10-25T15:07:19.985446Z",
     "iopub.status.busy": "2023-10-25T15:07:19.984744Z",
     "iopub.status.idle": "2023-10-25T15:07:20.034200Z",
     "shell.execute_reply": "2023-10-25T15:07:20.033122Z"
    },
    "papermill": {
     "duration": 0.069365,
     "end_time": "2023-10-25T15:07:20.036582",
     "exception": false,
     "start_time": "2023-10-25T15:07:19.967217",
     "status": "completed"
    },
    "tags": []
   },
   "outputs": [
    {
     "data": {
      "text/html": [
       "<div>\n",
       "<style scoped>\n",
       "    .dataframe tbody tr th:only-of-type {\n",
       "        vertical-align: middle;\n",
       "    }\n",
       "\n",
       "    .dataframe tbody tr th {\n",
       "        vertical-align: top;\n",
       "    }\n",
       "\n",
       "    .dataframe thead th {\n",
       "        text-align: right;\n",
       "    }\n",
       "</style>\n",
       "<table border=\"1\" class=\"dataframe\">\n",
       "  <thead>\n",
       "    <tr style=\"text-align: right;\">\n",
       "      <th></th>\n",
       "      <th>Patient ID</th>\n",
       "      <th>Age</th>\n",
       "      <th>Sex</th>\n",
       "      <th>Cholesterol</th>\n",
       "      <th>Blood Pressure</th>\n",
       "      <th>Heart Rate</th>\n",
       "      <th>Diabetes</th>\n",
       "      <th>Family History</th>\n",
       "      <th>Smoking</th>\n",
       "      <th>Obesity</th>\n",
       "      <th>...</th>\n",
       "      <th>BMI</th>\n",
       "      <th>Triglycerides</th>\n",
       "      <th>Physical Activity Days Per Week</th>\n",
       "      <th>Sleep Hours Per Day</th>\n",
       "      <th>Country</th>\n",
       "      <th>Continent</th>\n",
       "      <th>Hemisphere</th>\n",
       "      <th>Heart Attack Risk</th>\n",
       "      <th>Up Blood Pressure</th>\n",
       "      <th>Down Blood Pressure</th>\n",
       "    </tr>\n",
       "  </thead>\n",
       "  <tbody>\n",
       "    <tr>\n",
       "      <td>0</td>\n",
       "      <td>RDG0550</td>\n",
       "      <td>33</td>\n",
       "      <td>Male</td>\n",
       "      <td>200</td>\n",
       "      <td>129/90</td>\n",
       "      <td>48</td>\n",
       "      <td>0</td>\n",
       "      <td>1</td>\n",
       "      <td>1</td>\n",
       "      <td>1</td>\n",
       "      <td>...</td>\n",
       "      <td>30.449815</td>\n",
       "      <td>63</td>\n",
       "      <td>6</td>\n",
       "      <td>7</td>\n",
       "      <td>Argentina</td>\n",
       "      <td>South America</td>\n",
       "      <td>Southern Hemisphere</td>\n",
       "      <td>1</td>\n",
       "      <td>129</td>\n",
       "      <td>90</td>\n",
       "    </tr>\n",
       "    <tr>\n",
       "      <td>1</td>\n",
       "      <td>NMA3851</td>\n",
       "      <td>56</td>\n",
       "      <td>Female</td>\n",
       "      <td>262</td>\n",
       "      <td>159/105</td>\n",
       "      <td>46</td>\n",
       "      <td>1</td>\n",
       "      <td>0</td>\n",
       "      <td>1</td>\n",
       "      <td>0</td>\n",
       "      <td>...</td>\n",
       "      <td>34.973685</td>\n",
       "      <td>333</td>\n",
       "      <td>7</td>\n",
       "      <td>8</td>\n",
       "      <td>Nigeria</td>\n",
       "      <td>Africa</td>\n",
       "      <td>Northern Hemisphere</td>\n",
       "      <td>1</td>\n",
       "      <td>159</td>\n",
       "      <td>105</td>\n",
       "    </tr>\n",
       "    <tr>\n",
       "      <td>2</td>\n",
       "      <td>TUI5807</td>\n",
       "      <td>19</td>\n",
       "      <td>Female</td>\n",
       "      <td>140</td>\n",
       "      <td>161/109</td>\n",
       "      <td>54</td>\n",
       "      <td>0</td>\n",
       "      <td>1</td>\n",
       "      <td>0</td>\n",
       "      <td>0</td>\n",
       "      <td>...</td>\n",
       "      <td>30.554246</td>\n",
       "      <td>537</td>\n",
       "      <td>2</td>\n",
       "      <td>10</td>\n",
       "      <td>Thailand</td>\n",
       "      <td>Asia</td>\n",
       "      <td>Northern Hemisphere</td>\n",
       "      <td>0</td>\n",
       "      <td>161</td>\n",
       "      <td>109</td>\n",
       "    </tr>\n",
       "    <tr>\n",
       "      <td>3</td>\n",
       "      <td>YYT5016</td>\n",
       "      <td>50</td>\n",
       "      <td>Female</td>\n",
       "      <td>163</td>\n",
       "      <td>120/62</td>\n",
       "      <td>53</td>\n",
       "      <td>0</td>\n",
       "      <td>1</td>\n",
       "      <td>1</td>\n",
       "      <td>1</td>\n",
       "      <td>...</td>\n",
       "      <td>35.390265</td>\n",
       "      <td>591</td>\n",
       "      <td>0</td>\n",
       "      <td>9</td>\n",
       "      <td>Spain</td>\n",
       "      <td>Europe</td>\n",
       "      <td>Southern Hemisphere</td>\n",
       "      <td>1</td>\n",
       "      <td>120</td>\n",
       "      <td>62</td>\n",
       "    </tr>\n",
       "    <tr>\n",
       "      <td>4</td>\n",
       "      <td>ZAC5937</td>\n",
       "      <td>89</td>\n",
       "      <td>Female</td>\n",
       "      <td>144</td>\n",
       "      <td>153/110</td>\n",
       "      <td>92</td>\n",
       "      <td>1</td>\n",
       "      <td>0</td>\n",
       "      <td>1</td>\n",
       "      <td>0</td>\n",
       "      <td>...</td>\n",
       "      <td>39.575483</td>\n",
       "      <td>145</td>\n",
       "      <td>2</td>\n",
       "      <td>5</td>\n",
       "      <td>Germany</td>\n",
       "      <td>Europe</td>\n",
       "      <td>Northern Hemisphere</td>\n",
       "      <td>1</td>\n",
       "      <td>153</td>\n",
       "      <td>110</td>\n",
       "    </tr>\n",
       "    <tr>\n",
       "      <td>...</td>\n",
       "      <td>...</td>\n",
       "      <td>...</td>\n",
       "      <td>...</td>\n",
       "      <td>...</td>\n",
       "      <td>...</td>\n",
       "      <td>...</td>\n",
       "      <td>...</td>\n",
       "      <td>...</td>\n",
       "      <td>...</td>\n",
       "      <td>...</td>\n",
       "      <td>...</td>\n",
       "      <td>...</td>\n",
       "      <td>...</td>\n",
       "      <td>...</td>\n",
       "      <td>...</td>\n",
       "      <td>...</td>\n",
       "      <td>...</td>\n",
       "      <td>...</td>\n",
       "      <td>...</td>\n",
       "      <td>...</td>\n",
       "      <td>...</td>\n",
       "    </tr>\n",
       "    <tr>\n",
       "      <td>7005</td>\n",
       "      <td>BCB2291</td>\n",
       "      <td>29</td>\n",
       "      <td>Female</td>\n",
       "      <td>267</td>\n",
       "      <td>104/105</td>\n",
       "      <td>87</td>\n",
       "      <td>0</td>\n",
       "      <td>0</td>\n",
       "      <td>0</td>\n",
       "      <td>1</td>\n",
       "      <td>...</td>\n",
       "      <td>27.521246</td>\n",
       "      <td>598</td>\n",
       "      <td>4</td>\n",
       "      <td>5</td>\n",
       "      <td>France</td>\n",
       "      <td>Europe</td>\n",
       "      <td>Northern Hemisphere</td>\n",
       "      <td>0</td>\n",
       "      <td>104</td>\n",
       "      <td>105</td>\n",
       "    </tr>\n",
       "    <tr>\n",
       "      <td>7006</td>\n",
       "      <td>KIG5207</td>\n",
       "      <td>83</td>\n",
       "      <td>Male</td>\n",
       "      <td>296</td>\n",
       "      <td>134/99</td>\n",
       "      <td>77</td>\n",
       "      <td>1</td>\n",
       "      <td>1</td>\n",
       "      <td>1</td>\n",
       "      <td>1</td>\n",
       "      <td>...</td>\n",
       "      <td>21.332449</td>\n",
       "      <td>465</td>\n",
       "      <td>4</td>\n",
       "      <td>4</td>\n",
       "      <td>United Kingdom</td>\n",
       "      <td>Europe</td>\n",
       "      <td>Northern Hemisphere</td>\n",
       "      <td>0</td>\n",
       "      <td>134</td>\n",
       "      <td>99</td>\n",
       "    </tr>\n",
       "    <tr>\n",
       "      <td>7007</td>\n",
       "      <td>GCY1316</td>\n",
       "      <td>54</td>\n",
       "      <td>Male</td>\n",
       "      <td>120</td>\n",
       "      <td>134/84</td>\n",
       "      <td>103</td>\n",
       "      <td>1</td>\n",
       "      <td>1</td>\n",
       "      <td>1</td>\n",
       "      <td>1</td>\n",
       "      <td>...</td>\n",
       "      <td>37.465577</td>\n",
       "      <td>674</td>\n",
       "      <td>6</td>\n",
       "      <td>9</td>\n",
       "      <td>Colombia</td>\n",
       "      <td>South America</td>\n",
       "      <td>Northern Hemisphere</td>\n",
       "      <td>0</td>\n",
       "      <td>134</td>\n",
       "      <td>84</td>\n",
       "    </tr>\n",
       "    <tr>\n",
       "      <td>7008</td>\n",
       "      <td>RPK2629</td>\n",
       "      <td>42</td>\n",
       "      <td>Female</td>\n",
       "      <td>147</td>\n",
       "      <td>144/76</td>\n",
       "      <td>81</td>\n",
       "      <td>0</td>\n",
       "      <td>0</td>\n",
       "      <td>1</td>\n",
       "      <td>0</td>\n",
       "      <td>...</td>\n",
       "      <td>28.605789</td>\n",
       "      <td>623</td>\n",
       "      <td>7</td>\n",
       "      <td>10</td>\n",
       "      <td>Spain</td>\n",
       "      <td>Europe</td>\n",
       "      <td>Southern Hemisphere</td>\n",
       "      <td>1</td>\n",
       "      <td>144</td>\n",
       "      <td>76</td>\n",
       "    </tr>\n",
       "    <tr>\n",
       "      <td>7009</td>\n",
       "      <td>CWO3455</td>\n",
       "      <td>61</td>\n",
       "      <td>Male</td>\n",
       "      <td>176</td>\n",
       "      <td>172/60</td>\n",
       "      <td>56</td>\n",
       "      <td>0</td>\n",
       "      <td>1</td>\n",
       "      <td>1</td>\n",
       "      <td>0</td>\n",
       "      <td>...</td>\n",
       "      <td>22.057046</td>\n",
       "      <td>224</td>\n",
       "      <td>7</td>\n",
       "      <td>10</td>\n",
       "      <td>India</td>\n",
       "      <td>Asia</td>\n",
       "      <td>Northern Hemisphere</td>\n",
       "      <td>0</td>\n",
       "      <td>172</td>\n",
       "      <td>60</td>\n",
       "    </tr>\n",
       "  </tbody>\n",
       "</table>\n",
       "<p>7010 rows × 28 columns</p>\n",
       "</div>"
      ],
      "text/plain": [
       "     Patient ID  Age     Sex  Cholesterol Blood Pressure  Heart Rate  \\\n",
       "0       RDG0550   33    Male          200         129/90          48   \n",
       "1       NMA3851   56  Female          262        159/105          46   \n",
       "2       TUI5807   19  Female          140        161/109          54   \n",
       "3       YYT5016   50  Female          163         120/62          53   \n",
       "4       ZAC5937   89  Female          144        153/110          92   \n",
       "...         ...  ...     ...          ...            ...         ...   \n",
       "7005    BCB2291   29  Female          267        104/105          87   \n",
       "7006    KIG5207   83    Male          296         134/99          77   \n",
       "7007    GCY1316   54    Male          120         134/84         103   \n",
       "7008    RPK2629   42  Female          147         144/76          81   \n",
       "7009    CWO3455   61    Male          176         172/60          56   \n",
       "\n",
       "      Diabetes  Family History  Smoking  Obesity  ...        BMI  \\\n",
       "0            0               1        1        1  ...  30.449815   \n",
       "1            1               0        1        0  ...  34.973685   \n",
       "2            0               1        0        0  ...  30.554246   \n",
       "3            0               1        1        1  ...  35.390265   \n",
       "4            1               0        1        0  ...  39.575483   \n",
       "...        ...             ...      ...      ...  ...        ...   \n",
       "7005         0               0        0        1  ...  27.521246   \n",
       "7006         1               1        1        1  ...  21.332449   \n",
       "7007         1               1        1        1  ...  37.465577   \n",
       "7008         0               0        1        0  ...  28.605789   \n",
       "7009         0               1        1        0  ...  22.057046   \n",
       "\n",
       "      Triglycerides Physical Activity Days Per Week  Sleep Hours Per Day  \\\n",
       "0                63                               6                    7   \n",
       "1               333                               7                    8   \n",
       "2               537                               2                   10   \n",
       "3               591                               0                    9   \n",
       "4               145                               2                    5   \n",
       "...             ...                             ...                  ...   \n",
       "7005            598                               4                    5   \n",
       "7006            465                               4                    4   \n",
       "7007            674                               6                    9   \n",
       "7008            623                               7                   10   \n",
       "7009            224                               7                   10   \n",
       "\n",
       "             Country      Continent           Hemisphere  Heart Attack Risk  \\\n",
       "0          Argentina  South America  Southern Hemisphere                  1   \n",
       "1            Nigeria         Africa  Northern Hemisphere                  1   \n",
       "2           Thailand           Asia  Northern Hemisphere                  0   \n",
       "3              Spain         Europe  Southern Hemisphere                  1   \n",
       "4            Germany         Europe  Northern Hemisphere                  1   \n",
       "...              ...            ...                  ...                ...   \n",
       "7005          France         Europe  Northern Hemisphere                  0   \n",
       "7006  United Kingdom         Europe  Northern Hemisphere                  0   \n",
       "7007        Colombia  South America  Northern Hemisphere                  0   \n",
       "7008           Spain         Europe  Southern Hemisphere                  1   \n",
       "7009           India           Asia  Northern Hemisphere                  0   \n",
       "\n",
       "      Up Blood Pressure  Down Blood Pressure  \n",
       "0                   129                   90  \n",
       "1                   159                  105  \n",
       "2                   161                  109  \n",
       "3                   120                   62  \n",
       "4                   153                  110  \n",
       "...                 ...                  ...  \n",
       "7005                104                  105  \n",
       "7006                134                   99  \n",
       "7007                134                   84  \n",
       "7008                144                   76  \n",
       "7009                172                   60  \n",
       "\n",
       "[7010 rows x 28 columns]"
      ]
     },
     "execution_count": 5,
     "metadata": {},
     "output_type": "execute_result"
    }
   ],
   "source": [
    "# Split  \"/\" Data\n",
    "train[['Up Blood Pressure','Down Blood Pressure']] = train['Blood Pressure'].str.split('/',expand=True)\n",
    "train"
   ]
  },
  {
   "cell_type": "code",
   "execution_count": 6,
   "metadata": {},
   "outputs": [
    {
     "data": {
      "image/png": "[encoded data removed]",
      "text/plain": [
       "<Figure size 432x288 with 1 Axes>"
      ]
     },
     "metadata": {
      "needs_background": "light"
     },
     "output_type": "display_data"
    }
   ],
   "source": [
    "import matplotlib.pyplot as plt\n",
    "\n",
    "plt.hist(train['Age'], bins=10, color='blue', alpha=0.5)\n",
    "plt.xlabel('Age')\n",
    "plt.ylabel('Count')\n",
    "plt.title('Histogram of Age')\n",
    "plt.show()"
   ]
  },
  {
   "cell_type": "code",
   "execution_count": 7,
   "metadata": {},
   "outputs": [
    {
     "data": {
      "image/png": "[encoded data removed]",
      "text/plain": [
       "<Figure size 432x288 with 1 Axes>"
      ]
     },
     "metadata": {
      "needs_background": "light"
     },
     "output_type": "display_data"
    }
   ],
   "source": [
    "age_split = [0, 20, 40, 60, 80, 1000]\n",
    "age_label = ['Age1', 'Age2', 'Age3', 'Age4', 'Age5']\n",
    "train['Age_group'] = pd.cut(train['Age'], bins=age_split, labels=age_label, right=False, include_lowest=True)\n",
    "\n",
    "sns.countplot(data=train, x='Age_group', hue='Heart Attack Risk')\n",
    "plt.show()"
   ]
  },
  {
   "cell_type": "code",
   "execution_count": 8,
   "metadata": {
    "execution": {
     "iopub.execute_input": "2023-10-25T15:07:21.189942Z",
     "iopub.status.busy": "2023-10-25T15:07:21.189134Z",
     "iopub.status.idle": "2023-10-25T15:07:21.448977Z",
     "shell.execute_reply": "2023-10-25T15:07:21.447797Z"
    },
    "papermill": {
     "duration": 0.283099,
     "end_time": "2023-10-25T15:07:21.451382",
     "exception": false,
     "start_time": "2023-10-25T15:07:21.168283",
     "status": "completed"
    },
    "tags": []
   },
   "outputs": [
    {
     "data": {
      "text/plain": [
       "<matplotlib.axes._subplots.AxesSubplot at 0x2af5d8f0208>"
      ]
     },
     "execution_count": 8,
     "metadata": {},
     "output_type": "execute_result"
    },
    {
     "data": {
      "image/png": "[encoded data removed]",
      "text/plain": [
       "<Figure size 432x288 with 1 Axes>"
      ]
     },
     "metadata": {
      "needs_background": "light"
     },
     "output_type": "display_data"
    }
   ],
   "source": [
    "sns.countplot(data=train, x='Sex', hue='Heart Attack Risk')"
   ]
  },
  {
   "cell_type": "code",
   "execution_count": 9,
   "metadata": {
    "execution": {
     "iopub.execute_input": "2023-10-25T15:07:25.213622Z",
     "iopub.status.busy": "2023-10-25T15:07:25.212642Z",
     "iopub.status.idle": "2023-10-25T15:07:25.426222Z",
     "shell.execute_reply": "2023-10-25T15:07:25.425214Z"
    },
    "papermill": {
     "duration": 0.240893,
     "end_time": "2023-10-25T15:07:25.428685",
     "exception": false,
     "start_time": "2023-10-25T15:07:25.187792",
     "status": "completed"
    },
    "tags": []
   },
   "outputs": [
    {
     "data": {
      "text/plain": [
       "<matplotlib.axes._subplots.AxesSubplot at 0x2af5d7dcb08>"
      ]
     },
     "execution_count": 9,
     "metadata": {},
     "output_type": "execute_result"
    },
    {
     "data": {
      "image/png": "[encoded data removed]",
      "text/plain": [
       "<Figure size 432x288 with 1 Axes>"
      ]
     },
     "metadata": {
      "needs_background": "light"
     },
     "output_type": "display_data"
    }
   ],
   "source": [
    "sns.countplot(data=train, x='Diabetes', hue='Heart Attack Risk')"
   ]
  },
  {
   "cell_type": "code",
   "execution_count": 10,
   "metadata": {
    "execution": {
     "iopub.execute_input": "2023-10-25T15:07:25.480278Z",
     "iopub.status.busy": "2023-10-25T15:07:25.479881Z",
     "iopub.status.idle": "2023-10-25T15:07:25.742025Z",
     "shell.execute_reply": "2023-10-25T15:07:25.740813Z"
    },
    "papermill": {
     "duration": 0.291422,
     "end_time": "2023-10-25T15:07:25.744951",
     "exception": false,
     "start_time": "2023-10-25T15:07:25.453529",
     "status": "completed"
    },
    "tags": []
   },
   "outputs": [
    {
     "data": {
      "text/plain": [
       "<matplotlib.axes._subplots.AxesSubplot at 0x2af5d78ea48>"
      ]
     },
     "execution_count": 10,
     "metadata": {},
     "output_type": "execute_result"
    },
    {
     "data": {
      "image/png": "[encoded data removed]",
      "text/plain": [
       "<Figure size 432x288 with 1 Axes>"
      ]
     },
     "metadata": {
      "needs_background": "light"
     },
     "output_type": "display_data"
    }
   ],
   "source": [
    "sns.countplot(data=train, x='Smoking', hue='Heart Attack Risk')"
   ]
  },
  {
   "cell_type": "code",
   "execution_count": 11,
   "metadata": {
    "execution": {
     "iopub.execute_input": "2023-10-25T15:07:25.795908Z",
     "iopub.status.busy": "2023-10-25T15:07:25.795130Z",
     "iopub.status.idle": "2023-10-25T15:07:25.989886Z",
     "shell.execute_reply": "2023-10-25T15:07:25.988837Z"
    },
    "papermill": {
     "duration": 0.222109,
     "end_time": "2023-10-25T15:07:25.992049",
     "exception": false,
     "start_time": "2023-10-25T15:07:25.769940",
     "status": "completed"
    },
    "tags": []
   },
   "outputs": [
    {
     "data": {
      "text/plain": [
       "<matplotlib.axes._subplots.AxesSubplot at 0x2af5ddb4488>"
      ]
     },
     "execution_count": 11,
     "metadata": {},
     "output_type": "execute_result"
    },
    {
     "data": {
      "image/png": "[encoded data removed]",
      "text/plain": [
       "<Figure size 432x288 with 1 Axes>"
      ]
     },
     "metadata": {
      "needs_background": "light"
     },
     "output_type": "display_data"
    }
   ],
   "source": [
    "sns.countplot(data=train, x='Obesity', hue='Heart Attack Risk')"
   ]
  },
  {
   "cell_type": "code",
   "execution_count": 12,
   "metadata": {
    "execution": {
     "iopub.execute_input": "2023-10-25T15:07:26.042731Z",
     "iopub.status.busy": "2023-10-25T15:07:26.042285Z",
     "iopub.status.idle": "2023-10-25T15:07:26.288833Z",
     "shell.execute_reply": "2023-10-25T15:07:26.288012Z"
    },
    "papermill": {
     "duration": 0.27481,
     "end_time": "2023-10-25T15:07:26.290964",
     "exception": false,
     "start_time": "2023-10-25T15:07:26.016154",
     "status": "completed"
    },
    "tags": []
   },
   "outputs": [
    {
     "data": {
      "text/plain": [
       "<matplotlib.axes._subplots.AxesSubplot at 0x2af5de13908>"
      ]
     },
     "execution_count": 12,
     "metadata": {},
     "output_type": "execute_result"
    },
    {
     "data": {
      "image/png": "[encoded data removed]",
      "text/plain": [
       "<Figure size 432x288 with 1 Axes>"
      ]
     },
     "metadata": {
      "needs_background": "light"
     },
     "output_type": "display_data"
    }
   ],
   "source": [
    "sns.countplot(data=train, x='Alcohol Consumption', hue='Heart Attack Risk')"
   ]
  },
  {
   "cell_type": "code",
   "execution_count": 13,
   "metadata": {
    "execution": {
     "iopub.execute_input": "2023-10-25T15:07:26.942136Z",
     "iopub.status.busy": "2023-10-25T15:07:26.940943Z",
     "iopub.status.idle": "2023-10-25T15:07:27.184616Z",
     "shell.execute_reply": "2023-10-25T15:07:27.183439Z"
    },
    "papermill": {
     "duration": 0.27646,
     "end_time": "2023-10-25T15:07:27.187380",
     "exception": false,
     "start_time": "2023-10-25T15:07:26.910920",
     "status": "completed"
    },
    "tags": []
   },
   "outputs": [
    {
     "data": {
      "text/plain": [
       "<matplotlib.axes._subplots.AxesSubplot at 0x2af5de7cac8>"
      ]
     },
     "execution_count": 13,
     "metadata": {},
     "output_type": "execute_result"
    },
    {
     "data": {
      "image/png": "[encoded data removed]",
      "text/plain": [
       "<Figure size 432x288 with 1 Axes>"
      ]
     },
     "metadata": {
      "needs_background": "light"
     },
     "output_type": "display_data"
    }
   ],
   "source": [
    "sns.countplot(data=train, x='Diet', hue='Heart Attack Risk')"
   ]
  },
  {
   "cell_type": "code",
   "execution_count": 14,
   "metadata": {
    "execution": {
     "iopub.execute_input": "2023-10-25T15:07:27.244630Z",
     "iopub.status.busy": "2023-10-25T15:07:27.243403Z",
     "iopub.status.idle": "2023-10-25T15:07:27.443155Z",
     "shell.execute_reply": "2023-10-25T15:07:27.442292Z"
    },
    "papermill": {
     "duration": 0.230434,
     "end_time": "2023-10-25T15:07:27.445328",
     "exception": false,
     "start_time": "2023-10-25T15:07:27.214894",
     "status": "completed"
    },
    "tags": []
   },
   "outputs": [
    {
     "data": {
      "text/plain": [
       "<matplotlib.axes._subplots.AxesSubplot at 0x2af5def5588>"
      ]
     },
     "execution_count": 14,
     "metadata": {},
     "output_type": "execute_result"
    },
    {
     "data": {
      "image/png": "[encoded data removed]",
      "text/plain": [
       "<Figure size 432x288 with 1 Axes>"
      ]
     },
     "metadata": {
      "needs_background": "light"
     },
     "output_type": "display_data"
    }
   ],
   "source": [
    "sns.countplot(data=train, x='Previous Heart Problems', hue='Heart Attack Risk')"
   ]
  },
  {
   "cell_type": "code",
   "execution_count": 15,
   "metadata": {
    "execution": {
     "iopub.execute_input": "2023-10-25T15:07:27.501464Z",
     "iopub.status.busy": "2023-10-25T15:07:27.500813Z",
     "iopub.status.idle": "2023-10-25T15:07:27.701541Z",
     "shell.execute_reply": "2023-10-25T15:07:27.700397Z"
    },
    "papermill": {
     "duration": 0.231423,
     "end_time": "2023-10-25T15:07:27.704285",
     "exception": false,
     "start_time": "2023-10-25T15:07:27.472862",
     "status": "completed"
    },
    "tags": []
   },
   "outputs": [
    {
     "data": {
      "text/plain": [
       "<matplotlib.axes._subplots.AxesSubplot at 0x2af5df64708>"
      ]
     },
     "execution_count": 15,
     "metadata": {},
     "output_type": "execute_result"
    },
    {
     "data": {
      "image/png": "[encoded data removed]",
      "text/plain": [
       "<Figure size 432x288 with 1 Axes>"
      ]
     },
     "metadata": {
      "needs_background": "light"
     },
     "output_type": "display_data"
    }
   ],
   "source": [
    "sns.countplot(data=train, x='Medication Use', hue='Heart Attack Risk')"
   ]
  },
  {
   "cell_type": "code",
   "execution_count": 16,
   "metadata": {
    "execution": {
     "iopub.execute_input": "2023-10-25T15:07:27.760074Z",
     "iopub.status.busy": "2023-10-25T15:07:27.759697Z",
     "iopub.status.idle": "2023-10-25T15:07:28.059705Z",
     "shell.execute_reply": "2023-10-25T15:07:28.058687Z"
    },
    "papermill": {
     "duration": 0.33066,
     "end_time": "2023-10-25T15:07:28.062154",
     "exception": false,
     "start_time": "2023-10-25T15:07:27.731494",
     "status": "completed"
    },
    "tags": []
   },
   "outputs": [
    {
     "data": {
      "text/plain": [
       "<matplotlib.axes._subplots.AxesSubplot at 0x2af5d8ab808>"
      ]
     },
     "execution_count": 16,
     "metadata": {},
     "output_type": "execute_result"
    },
    {
     "data": {
      "image/png": "[encoded data removed]",
      "text/plain": [
       "<Figure size 432x288 with 1 Axes>"
      ]
     },
     "metadata": {
      "needs_background": "light"
     },
     "output_type": "display_data"
    }
   ],
   "source": [
    "sns.countplot(data=train, x='Stress Level', hue='Heart Attack Risk')"
   ]
  },
  {
   "cell_type": "code",
   "execution_count": 40,
   "metadata": {},
   "outputs": [
    {
     "data": {
      "image/png": "[encoded data removed]",
      "text/plain": [
       "<Figure size 432x288 with 1 Axes>"
      ]
     },
     "metadata": {
      "needs_background": "light"
     },
     "output_type": "display_data"
    },
    {
     "data": {
      "image/png": "[encoded data removed]",
      "text/plain": [
       "<Figure size 432x288 with 1 Axes>"
      ]
     },
     "metadata": {
      "needs_background": "light"
     },
     "output_type": "display_data"
    },
    {
     "data": {
      "image/png": "[encoded data removed]",
      "text/plain": [
       "<Figure size 432x288 with 1 Axes>"
      ]
     },
     "metadata": {
      "needs_background": "light"
     },
     "output_type": "display_data"
    },
    {
     "data": {
      "image/png": "[encoded data removed]",
      "text/plain": [
       "<Figure size 432x288 with 1 Axes>"
      ]
     },
     "metadata": {
      "needs_background": "light"
     },
     "output_type": "display_data"
    },
    {
     "data": {
      "image/png": "[encoded data removed]",
      "text/plain": [
       "<Figure size 432x288 with 1 Axes>"
      ]
     },
     "metadata": {
      "needs_background": "light"
     },
     "output_type": "display_data"
    },
    {
     "data": {
      "image/png": "[encoded data removed]",
      "text/plain": [
       "<Figure size 432x288 with 1 Axes>"
      ]
     },
     "metadata": {
      "needs_background": "light"
     },
     "output_type": "display_data"
    },
    {
     "data": {
      "image/png": "[encoded data removed]",
      "text/plain": [
       "<Figure size 432x288 with 1 Axes>"
      ]
     },
     "metadata": {
      "needs_background": "light"
     },
     "output_type": "display_data"
    },
    {
     "data": {
      "image/png": "[encoded data removed]",
      "text/plain": [
       "<Figure size 432x288 with 1 Axes>"
      ]
     },
     "metadata": {
      "needs_background": "light"
     },
     "output_type": "display_data"
    },
    {
     "data": {
      "image/png": "[encoded data removed]",
      "text/plain": [
       "<Figure size 432x288 with 1 Axes>"
      ]
     },
     "metadata": {
      "needs_background": "light"
     },
     "output_type": "display_data"
    },
    {
     "data": {
      "image/png": "[encoded data removed]",
      "text/plain": [
       "<Figure size 432x288 with 1 Axes>"
      ]
     },
     "metadata": {
      "needs_background": "light"
     },
     "output_type": "display_data"
    },
    {
     "data": {
      "image/png": "[encoded data removed]",
      "text/plain": [
       "<Figure size 432x288 with 1 Axes>"
      ]
     },
     "metadata": {
      "needs_background": "light"
     },
     "output_type": "display_data"
    },
    {
     "data": {
      "image/png": "[encoded data removed]",
      "text/plain": [
       "<Figure size 432x288 with 1 Axes>"
      ]
     },
     "metadata": {
      "needs_background": "light"
     },
     "output_type": "display_data"
    },
    {
     "data": {
      "image/png": "[encoded data removed]",
      "text/plain": [
       "<Figure size 432x288 with 1 Axes>"
      ]
     },
     "metadata": {
      "needs_background": "light"
     },
     "output_type": "display_data"
    },
    {
     "data": {
      "image/png": "[encoded data removed]",
      "text/plain": [
       "<Figure size 432x288 with 1 Axes>"
      ]
     },
     "metadata": {
      "needs_background": "light"
     },
     "output_type": "display_data"
    },
    {
     "data": {
      "image/png": "[encoded data removed]",
      "text/plain": [
       "<Figure size 432x288 with 1 Axes>"
      ]
     },
     "metadata": {
      "needs_background": "light"
     },
     "output_type": "display_data"
    },
    {
     "data": {
      "image/png": "[encoded data removed]",
      "text/plain": [
       "<Figure size 432x288 with 1 Axes>"
      ]
     },
     "metadata": {
      "needs_background": "light"
     },
     "output_type": "display_data"
    },
    {
     "data": {
      "image/png": "[encoded data removed]",
      "text/plain": [
       "<Figure size 432x288 with 1 Axes>"
      ]
     },
     "metadata": {
      "needs_background": "light"
     },
     "output_type": "display_data"
    },
    {
     "data": {
      "image/png": "[encoded data removed]",
      "text/plain": [
       "<Figure size 432x288 with 1 Axes>"
      ]
     },
     "metadata": {
      "needs_background": "light"
     },
     "output_type": "display_data"
    },
    {
     "data": {
      "image/png": "[encoded data removed]",
      "text/plain": [
       "<Figure size 432x288 with 1 Axes>"
      ]
     },
     "metadata": {
      "needs_background": "light"
     },
     "output_type": "display_data"
    },
    {
     "data": {
      "image/png": "[encoded data removed]",
      "text/plain": [
       "<Figure size 432x288 with 1 Axes>"
      ]
     },
     "metadata": {
      "needs_background": "light"
     },
     "output_type": "display_data"
    },
    {
     "data": {
      "image/png": "[encoded data removed]",
      "text/plain": [
       "<Figure size 432x288 with 1 Axes>"
      ]
     },
     "metadata": {
      "needs_background": "light"
     },
     "output_type": "display_data"
    },
    {
     "data": {
      "image/png": "[encoded data removed]",
      "text/plain": [
       "<Figure size 432x288 with 1 Axes>"
      ]
     },
     "metadata": {
      "needs_background": "light"
     },
     "output_type": "display_data"
    },
    {
     "data": {
      "image/png": "[encoded data removed]",
      "text/plain": [
       "<Figure size 432x288 with 1 Axes>"
      ]
     },
     "metadata": {
      "needs_background": "light"
     },
     "output_type": "display_data"
    },
    {
     "data": {
      "image/png": "[encoded data removed]",
      "text/plain": [
       "<Figure size 432x288 with 1 Axes>"
      ]
     },
     "metadata": {
      "needs_background": "light"
     },
     "output_type": "display_data"
    },
    {
     "data": {
      "image/png": "[encoded data removed]",
      "text/plain": [
       "<Figure size 432x288 with 1 Axes>"
      ]
     },
     "metadata": {
      "needs_background": "light"
     },
     "output_type": "display_data"
    }
   ],
   "source": [
    "columns = train.columns\n",
    "\n",
    "# Parcourez toutes les colonnes\n",
    "for column in columns:\n",
    "        # Filtrer les données en fonction de la valeur de 'Heart Attack Risk'\n",
    "        heart_attack_risk_0 = train[train['Heart Attack Risk'] == 0][column]\n",
    "        heart_attack_risk_1 = train[train['Heart Attack Risk'] == 1][column]\n",
    "\n",
    "        # Tracer l'histogramme\n",
    "        plt.hist(heart_attack_risk_0, bins=20, alpha=0.5, label='Heart Attack Risk 0')\n",
    "        plt.hist(heart_attack_risk_1, bins=20, alpha=0.5, label='Heart Attack Risk 1')\n",
    "        plt.xlabel(column)\n",
    "        plt.ylabel('Count')\n",
    "        plt.legend()\n",
    "        plt.show()"
   ]
  },
  {
   "cell_type": "code",
   "execution_count": 18,
   "metadata": {
    "execution": {
     "iopub.execute_input": "2023-10-25T15:07:32.912967Z",
     "iopub.status.busy": "2023-10-25T15:07:32.912560Z",
     "iopub.status.idle": "2023-10-25T15:07:33.163224Z",
     "shell.execute_reply": "2023-10-25T15:07:33.162083Z"
    },
    "papermill": {
     "duration": 0.29243,
     "end_time": "2023-10-25T15:07:33.165983",
     "exception": false,
     "start_time": "2023-10-25T15:07:32.873553",
     "status": "completed"
    },
    "tags": []
   },
   "outputs": [
    {
     "data": {
      "text/plain": [
       "<matplotlib.axes._subplots.AxesSubplot at 0x2af5d881fc8>"
      ]
     },
     "execution_count": 18,
     "metadata": {},
     "output_type": "execute_result"
    },
    {
     "data": {
      "image/png": "[encoded data removed]",
      "text/plain": [
       "<Figure size 432x288 with 1 Axes>"
      ]
     },
     "metadata": {
      "needs_background": "light"
     },
     "output_type": "display_data"
    }
   ],
   "source": [
    "sns.countplot(data=train, x='Hemisphere', hue='Heart Attack Risk')"
   ]
  },
  {
   "cell_type": "markdown",
   "metadata": {
    "papermill": {
     "duration": 0.037565,
     "end_time": "2023-10-25T15:07:33.242757",
     "exception": false,
     "start_time": "2023-10-25T15:07:33.205192",
     "status": "completed"
    },
    "tags": []
   },
   "source": [
    "## PRE PROCESSING"
   ]
  },
  {
   "cell_type": "code",
   "execution_count": 19,
   "metadata": {},
   "outputs": [
    {
     "data": {
      "text/html": [
       "<div>\n",
       "<style scoped>\n",
       "    .dataframe tbody tr th:only-of-type {\n",
       "        vertical-align: middle;\n",
       "    }\n",
       "\n",
       "    .dataframe tbody tr th {\n",
       "        vertical-align: top;\n",
       "    }\n",
       "\n",
       "    .dataframe thead th {\n",
       "        text-align: right;\n",
       "    }\n",
       "</style>\n",
       "<table border=\"1\" class=\"dataframe\">\n",
       "  <thead>\n",
       "    <tr style=\"text-align: right;\">\n",
       "      <th></th>\n",
       "      <th>Patient ID</th>\n",
       "      <th>Age</th>\n",
       "      <th>Sex</th>\n",
       "      <th>Cholesterol</th>\n",
       "      <th>Blood Pressure</th>\n",
       "      <th>Heart Rate</th>\n",
       "      <th>Diabetes</th>\n",
       "      <th>Family History</th>\n",
       "      <th>Smoking</th>\n",
       "      <th>Obesity</th>\n",
       "      <th>...</th>\n",
       "      <th>Triglycerides</th>\n",
       "      <th>Physical Activity Days Per Week</th>\n",
       "      <th>Sleep Hours Per Day</th>\n",
       "      <th>Country</th>\n",
       "      <th>Continent</th>\n",
       "      <th>Hemisphere</th>\n",
       "      <th>Heart Attack Risk</th>\n",
       "      <th>Up Blood Pressure</th>\n",
       "      <th>Down Blood Pressure</th>\n",
       "      <th>Age_group</th>\n",
       "    </tr>\n",
       "  </thead>\n",
       "  <tbody>\n",
       "    <tr>\n",
       "      <td>0</td>\n",
       "      <td>RDG0550</td>\n",
       "      <td>33</td>\n",
       "      <td>0</td>\n",
       "      <td>200</td>\n",
       "      <td>129/90</td>\n",
       "      <td>48</td>\n",
       "      <td>0</td>\n",
       "      <td>1</td>\n",
       "      <td>1</td>\n",
       "      <td>1</td>\n",
       "      <td>...</td>\n",
       "      <td>63</td>\n",
       "      <td>6</td>\n",
       "      <td>7</td>\n",
       "      <td>Argentina</td>\n",
       "      <td>0</td>\n",
       "      <td>0</td>\n",
       "      <td>1</td>\n",
       "      <td>129</td>\n",
       "      <td>90</td>\n",
       "      <td>1</td>\n",
       "    </tr>\n",
       "    <tr>\n",
       "      <td>1</td>\n",
       "      <td>NMA3851</td>\n",
       "      <td>56</td>\n",
       "      <td>1</td>\n",
       "      <td>262</td>\n",
       "      <td>159/105</td>\n",
       "      <td>46</td>\n",
       "      <td>1</td>\n",
       "      <td>0</td>\n",
       "      <td>1</td>\n",
       "      <td>0</td>\n",
       "      <td>...</td>\n",
       "      <td>333</td>\n",
       "      <td>7</td>\n",
       "      <td>8</td>\n",
       "      <td>Nigeria</td>\n",
       "      <td>1</td>\n",
       "      <td>1</td>\n",
       "      <td>1</td>\n",
       "      <td>159</td>\n",
       "      <td>105</td>\n",
       "      <td>2</td>\n",
       "    </tr>\n",
       "    <tr>\n",
       "      <td>2</td>\n",
       "      <td>TUI5807</td>\n",
       "      <td>19</td>\n",
       "      <td>1</td>\n",
       "      <td>140</td>\n",
       "      <td>161/109</td>\n",
       "      <td>54</td>\n",
       "      <td>0</td>\n",
       "      <td>1</td>\n",
       "      <td>0</td>\n",
       "      <td>0</td>\n",
       "      <td>...</td>\n",
       "      <td>537</td>\n",
       "      <td>2</td>\n",
       "      <td>10</td>\n",
       "      <td>Thailand</td>\n",
       "      <td>2</td>\n",
       "      <td>1</td>\n",
       "      <td>0</td>\n",
       "      <td>161</td>\n",
       "      <td>109</td>\n",
       "      <td>0</td>\n",
       "    </tr>\n",
       "    <tr>\n",
       "      <td>3</td>\n",
       "      <td>YYT5016</td>\n",
       "      <td>50</td>\n",
       "      <td>1</td>\n",
       "      <td>163</td>\n",
       "      <td>120/62</td>\n",
       "      <td>53</td>\n",
       "      <td>0</td>\n",
       "      <td>1</td>\n",
       "      <td>1</td>\n",
       "      <td>1</td>\n",
       "      <td>...</td>\n",
       "      <td>591</td>\n",
       "      <td>0</td>\n",
       "      <td>9</td>\n",
       "      <td>Spain</td>\n",
       "      <td>3</td>\n",
       "      <td>0</td>\n",
       "      <td>1</td>\n",
       "      <td>120</td>\n",
       "      <td>62</td>\n",
       "      <td>2</td>\n",
       "    </tr>\n",
       "    <tr>\n",
       "      <td>4</td>\n",
       "      <td>ZAC5937</td>\n",
       "      <td>89</td>\n",
       "      <td>1</td>\n",
       "      <td>144</td>\n",
       "      <td>153/110</td>\n",
       "      <td>92</td>\n",
       "      <td>1</td>\n",
       "      <td>0</td>\n",
       "      <td>1</td>\n",
       "      <td>0</td>\n",
       "      <td>...</td>\n",
       "      <td>145</td>\n",
       "      <td>2</td>\n",
       "      <td>5</td>\n",
       "      <td>Germany</td>\n",
       "      <td>3</td>\n",
       "      <td>1</td>\n",
       "      <td>1</td>\n",
       "      <td>153</td>\n",
       "      <td>110</td>\n",
       "      <td>4</td>\n",
       "    </tr>\n",
       "    <tr>\n",
       "      <td>...</td>\n",
       "      <td>...</td>\n",
       "      <td>...</td>\n",
       "      <td>...</td>\n",
       "      <td>...</td>\n",
       "      <td>...</td>\n",
       "      <td>...</td>\n",
       "      <td>...</td>\n",
       "      <td>...</td>\n",
       "      <td>...</td>\n",
       "      <td>...</td>\n",
       "      <td>...</td>\n",
       "      <td>...</td>\n",
       "      <td>...</td>\n",
       "      <td>...</td>\n",
       "      <td>...</td>\n",
       "      <td>...</td>\n",
       "      <td>...</td>\n",
       "      <td>...</td>\n",
       "      <td>...</td>\n",
       "      <td>...</td>\n",
       "      <td>...</td>\n",
       "    </tr>\n",
       "    <tr>\n",
       "      <td>7005</td>\n",
       "      <td>BCB2291</td>\n",
       "      <td>29</td>\n",
       "      <td>1</td>\n",
       "      <td>267</td>\n",
       "      <td>104/105</td>\n",
       "      <td>87</td>\n",
       "      <td>0</td>\n",
       "      <td>0</td>\n",
       "      <td>0</td>\n",
       "      <td>1</td>\n",
       "      <td>...</td>\n",
       "      <td>598</td>\n",
       "      <td>4</td>\n",
       "      <td>5</td>\n",
       "      <td>France</td>\n",
       "      <td>3</td>\n",
       "      <td>1</td>\n",
       "      <td>0</td>\n",
       "      <td>104</td>\n",
       "      <td>105</td>\n",
       "      <td>1</td>\n",
       "    </tr>\n",
       "    <tr>\n",
       "      <td>7006</td>\n",
       "      <td>KIG5207</td>\n",
       "      <td>83</td>\n",
       "      <td>0</td>\n",
       "      <td>296</td>\n",
       "      <td>134/99</td>\n",
       "      <td>77</td>\n",
       "      <td>1</td>\n",
       "      <td>1</td>\n",
       "      <td>1</td>\n",
       "      <td>1</td>\n",
       "      <td>...</td>\n",
       "      <td>465</td>\n",
       "      <td>4</td>\n",
       "      <td>4</td>\n",
       "      <td>United Kingdom</td>\n",
       "      <td>3</td>\n",
       "      <td>1</td>\n",
       "      <td>0</td>\n",
       "      <td>134</td>\n",
       "      <td>99</td>\n",
       "      <td>4</td>\n",
       "    </tr>\n",
       "    <tr>\n",
       "      <td>7007</td>\n",
       "      <td>GCY1316</td>\n",
       "      <td>54</td>\n",
       "      <td>0</td>\n",
       "      <td>120</td>\n",
       "      <td>134/84</td>\n",
       "      <td>103</td>\n",
       "      <td>1</td>\n",
       "      <td>1</td>\n",
       "      <td>1</td>\n",
       "      <td>1</td>\n",
       "      <td>...</td>\n",
       "      <td>674</td>\n",
       "      <td>6</td>\n",
       "      <td>9</td>\n",
       "      <td>Colombia</td>\n",
       "      <td>0</td>\n",
       "      <td>1</td>\n",
       "      <td>0</td>\n",
       "      <td>134</td>\n",
       "      <td>84</td>\n",
       "      <td>2</td>\n",
       "    </tr>\n",
       "    <tr>\n",
       "      <td>7008</td>\n",
       "      <td>RPK2629</td>\n",
       "      <td>42</td>\n",
       "      <td>1</td>\n",
       "      <td>147</td>\n",
       "      <td>144/76</td>\n",
       "      <td>81</td>\n",
       "      <td>0</td>\n",
       "      <td>0</td>\n",
       "      <td>1</td>\n",
       "      <td>0</td>\n",
       "      <td>...</td>\n",
       "      <td>623</td>\n",
       "      <td>7</td>\n",
       "      <td>10</td>\n",
       "      <td>Spain</td>\n",
       "      <td>3</td>\n",
       "      <td>0</td>\n",
       "      <td>1</td>\n",
       "      <td>144</td>\n",
       "      <td>76</td>\n",
       "      <td>2</td>\n",
       "    </tr>\n",
       "    <tr>\n",
       "      <td>7009</td>\n",
       "      <td>CWO3455</td>\n",
       "      <td>61</td>\n",
       "      <td>0</td>\n",
       "      <td>176</td>\n",
       "      <td>172/60</td>\n",
       "      <td>56</td>\n",
       "      <td>0</td>\n",
       "      <td>1</td>\n",
       "      <td>1</td>\n",
       "      <td>0</td>\n",
       "      <td>...</td>\n",
       "      <td>224</td>\n",
       "      <td>7</td>\n",
       "      <td>10</td>\n",
       "      <td>India</td>\n",
       "      <td>2</td>\n",
       "      <td>1</td>\n",
       "      <td>0</td>\n",
       "      <td>172</td>\n",
       "      <td>60</td>\n",
       "      <td>3</td>\n",
       "    </tr>\n",
       "  </tbody>\n",
       "</table>\n",
       "<p>7010 rows × 29 columns</p>\n",
       "</div>"
      ],
      "text/plain": [
       "     Patient ID  Age  Sex  Cholesterol Blood Pressure  Heart Rate  Diabetes  \\\n",
       "0       RDG0550   33    0          200         129/90          48         0   \n",
       "1       NMA3851   56    1          262        159/105          46         1   \n",
       "2       TUI5807   19    1          140        161/109          54         0   \n",
       "3       YYT5016   50    1          163         120/62          53         0   \n",
       "4       ZAC5937   89    1          144        153/110          92         1   \n",
       "...         ...  ...  ...          ...            ...         ...       ...   \n",
       "7005    BCB2291   29    1          267        104/105          87         0   \n",
       "7006    KIG5207   83    0          296         134/99          77         1   \n",
       "7007    GCY1316   54    0          120         134/84         103         1   \n",
       "7008    RPK2629   42    1          147         144/76          81         0   \n",
       "7009    CWO3455   61    0          176         172/60          56         0   \n",
       "\n",
       "      Family History  Smoking  Obesity  ...  Triglycerides  \\\n",
       "0                  1        1        1  ...             63   \n",
       "1                  0        1        0  ...            333   \n",
       "2                  1        0        0  ...            537   \n",
       "3                  1        1        1  ...            591   \n",
       "4                  0        1        0  ...            145   \n",
       "...              ...      ...      ...  ...            ...   \n",
       "7005               0        0        1  ...            598   \n",
       "7006               1        1        1  ...            465   \n",
       "7007               1        1        1  ...            674   \n",
       "7008               0        1        0  ...            623   \n",
       "7009               1        1        0  ...            224   \n",
       "\n",
       "      Physical Activity Days Per Week  Sleep Hours Per Day         Country  \\\n",
       "0                                   6                    7       Argentina   \n",
       "1                                   7                    8         Nigeria   \n",
       "2                                   2                   10        Thailand   \n",
       "3                                   0                    9           Spain   \n",
       "4                                   2                    5         Germany   \n",
       "...                               ...                  ...             ...   \n",
       "7005                                4                    5          France   \n",
       "7006                                4                    4  United Kingdom   \n",
       "7007                                6                    9        Colombia   \n",
       "7008                                7                   10           Spain   \n",
       "7009                                7                   10           India   \n",
       "\n",
       "      Continent  Hemisphere  Heart Attack Risk  Up Blood Pressure  \\\n",
       "0             0           0                  1                129   \n",
       "1             1           1                  1                159   \n",
       "2             2           1                  0                161   \n",
       "3             3           0                  1                120   \n",
       "4             3           1                  1                153   \n",
       "...         ...         ...                ...                ...   \n",
       "7005          3           1                  0                104   \n",
       "7006          3           1                  0                134   \n",
       "7007          0           1                  0                134   \n",
       "7008          3           0                  1                144   \n",
       "7009          2           1                  0                172   \n",
       "\n",
       "      Down Blood Pressure  Age_group  \n",
       "0                      90          1  \n",
       "1                     105          2  \n",
       "2                     109          0  \n",
       "3                      62          2  \n",
       "4                     110          4  \n",
       "...                   ...        ...  \n",
       "7005                  105          1  \n",
       "7006                   99          4  \n",
       "7007                   84          2  \n",
       "7008                   76          2  \n",
       "7009                   60          3  \n",
       "\n",
       "[7010 rows x 29 columns]"
      ]
     },
     "execution_count": 19,
     "metadata": {},
     "output_type": "execute_result"
    }
   ],
   "source": [
    "train['Diet'] = train['Diet'].apply(lambda x: 0 if x == 'Unhealthy' else (1 if x == 'Average' else 2))\n",
    "train['Sex'] = train['Sex'].apply(lambda x: 0 if x == 'Male' else 1)\n",
    "train['Continent'] = train['Continent'].apply(lambda x: 0 if x == 'South America' else (1 if x == 'Africa' else (2 if x == 'Asia' else (3 if x == 'Europe' else (4 if x == 'North America' else 5)))))\n",
    "train['Hemisphere'] = train['Hemisphere'].apply(lambda x: 0 if x == 'Southern Hemisphere' else 1)\n",
    "train['Age_group'] = train['Age_group'].apply(lambda x: 0 if x == 'Age1' else (1 if x == 'Age2' else (2 if x == 'Age3' else (3 if x == 'Age4' else 4))))\n",
    "train"
   ]
  },
  {
   "cell_type": "code",
   "execution_count": 20,
   "metadata": {
    "execution": {
     "iopub.execute_input": "2023-10-25T15:07:33.451448Z",
     "iopub.status.busy": "2023-10-25T15:07:33.450204Z",
     "iopub.status.idle": "2023-10-25T15:07:33.483483Z",
     "shell.execute_reply": "2023-10-25T15:07:33.482398Z"
    },
    "papermill": {
     "duration": 0.073415,
     "end_time": "2023-10-25T15:07:33.485643",
     "exception": false,
     "start_time": "2023-10-25T15:07:33.412228",
     "status": "completed"
    },
    "tags": []
   },
   "outputs": [
    {
     "data": {
      "text/html": [
       "<div>\n",
       "<style scoped>\n",
       "    .dataframe tbody tr th:only-of-type {\n",
       "        vertical-align: middle;\n",
       "    }\n",
       "\n",
       "    .dataframe tbody tr th {\n",
       "        vertical-align: top;\n",
       "    }\n",
       "\n",
       "    .dataframe thead th {\n",
       "        text-align: right;\n",
       "    }\n",
       "</style>\n",
       "<table border=\"1\" class=\"dataframe\">\n",
       "  <thead>\n",
       "    <tr style=\"text-align: right;\">\n",
       "      <th></th>\n",
       "      <th>Sex</th>\n",
       "      <th>Cholesterol</th>\n",
       "      <th>Heart Rate</th>\n",
       "      <th>Diabetes</th>\n",
       "      <th>Family History</th>\n",
       "      <th>Smoking</th>\n",
       "      <th>Obesity</th>\n",
       "      <th>Alcohol Consumption</th>\n",
       "      <th>Exercise Hours Per Week</th>\n",
       "      <th>Diet</th>\n",
       "      <th>...</th>\n",
       "      <th>BMI</th>\n",
       "      <th>Triglycerides</th>\n",
       "      <th>Physical Activity Days Per Week</th>\n",
       "      <th>Sleep Hours Per Day</th>\n",
       "      <th>Continent</th>\n",
       "      <th>Hemisphere</th>\n",
       "      <th>Heart Attack Risk</th>\n",
       "      <th>Up Blood Pressure</th>\n",
       "      <th>Down Blood Pressure</th>\n",
       "      <th>Age_group</th>\n",
       "    </tr>\n",
       "  </thead>\n",
       "  <tbody>\n",
       "    <tr>\n",
       "      <td>0</td>\n",
       "      <td>0</td>\n",
       "      <td>200</td>\n",
       "      <td>48</td>\n",
       "      <td>0</td>\n",
       "      <td>1</td>\n",
       "      <td>1</td>\n",
       "      <td>1</td>\n",
       "      <td>1</td>\n",
       "      <td>7.807690</td>\n",
       "      <td>0</td>\n",
       "      <td>...</td>\n",
       "      <td>30.449815</td>\n",
       "      <td>63</td>\n",
       "      <td>6</td>\n",
       "      <td>7</td>\n",
       "      <td>0</td>\n",
       "      <td>0</td>\n",
       "      <td>1</td>\n",
       "      <td>129</td>\n",
       "      <td>90</td>\n",
       "      <td>1</td>\n",
       "    </tr>\n",
       "    <tr>\n",
       "      <td>1</td>\n",
       "      <td>1</td>\n",
       "      <td>262</td>\n",
       "      <td>46</td>\n",
       "      <td>1</td>\n",
       "      <td>0</td>\n",
       "      <td>1</td>\n",
       "      <td>0</td>\n",
       "      <td>0</td>\n",
       "      <td>17.297628</td>\n",
       "      <td>1</td>\n",
       "      <td>...</td>\n",
       "      <td>34.973685</td>\n",
       "      <td>333</td>\n",
       "      <td>7</td>\n",
       "      <td>8</td>\n",
       "      <td>1</td>\n",
       "      <td>1</td>\n",
       "      <td>1</td>\n",
       "      <td>159</td>\n",
       "      <td>105</td>\n",
       "      <td>2</td>\n",
       "    </tr>\n",
       "    <tr>\n",
       "      <td>2</td>\n",
       "      <td>1</td>\n",
       "      <td>140</td>\n",
       "      <td>54</td>\n",
       "      <td>0</td>\n",
       "      <td>1</td>\n",
       "      <td>0</td>\n",
       "      <td>0</td>\n",
       "      <td>1</td>\n",
       "      <td>8.695288</td>\n",
       "      <td>1</td>\n",
       "      <td>...</td>\n",
       "      <td>30.554246</td>\n",
       "      <td>537</td>\n",
       "      <td>2</td>\n",
       "      <td>10</td>\n",
       "      <td>2</td>\n",
       "      <td>1</td>\n",
       "      <td>0</td>\n",
       "      <td>161</td>\n",
       "      <td>109</td>\n",
       "      <td>0</td>\n",
       "    </tr>\n",
       "    <tr>\n",
       "      <td>3</td>\n",
       "      <td>1</td>\n",
       "      <td>163</td>\n",
       "      <td>53</td>\n",
       "      <td>0</td>\n",
       "      <td>1</td>\n",
       "      <td>1</td>\n",
       "      <td>1</td>\n",
       "      <td>1</td>\n",
       "      <td>10.161587</td>\n",
       "      <td>2</td>\n",
       "      <td>...</td>\n",
       "      <td>35.390265</td>\n",
       "      <td>591</td>\n",
       "      <td>0</td>\n",
       "      <td>9</td>\n",
       "      <td>3</td>\n",
       "      <td>0</td>\n",
       "      <td>1</td>\n",
       "      <td>120</td>\n",
       "      <td>62</td>\n",
       "      <td>2</td>\n",
       "    </tr>\n",
       "    <tr>\n",
       "      <td>4</td>\n",
       "      <td>1</td>\n",
       "      <td>144</td>\n",
       "      <td>92</td>\n",
       "      <td>1</td>\n",
       "      <td>0</td>\n",
       "      <td>1</td>\n",
       "      <td>0</td>\n",
       "      <td>1</td>\n",
       "      <td>16.436787</td>\n",
       "      <td>2</td>\n",
       "      <td>...</td>\n",
       "      <td>39.575483</td>\n",
       "      <td>145</td>\n",
       "      <td>2</td>\n",
       "      <td>5</td>\n",
       "      <td>3</td>\n",
       "      <td>1</td>\n",
       "      <td>1</td>\n",
       "      <td>153</td>\n",
       "      <td>110</td>\n",
       "      <td>4</td>\n",
       "    </tr>\n",
       "    <tr>\n",
       "      <td>...</td>\n",
       "      <td>...</td>\n",
       "      <td>...</td>\n",
       "      <td>...</td>\n",
       "      <td>...</td>\n",
       "      <td>...</td>\n",
       "      <td>...</td>\n",
       "      <td>...</td>\n",
       "      <td>...</td>\n",
       "      <td>...</td>\n",
       "      <td>...</td>\n",
       "      <td>...</td>\n",
       "      <td>...</td>\n",
       "      <td>...</td>\n",
       "      <td>...</td>\n",
       "      <td>...</td>\n",
       "      <td>...</td>\n",
       "      <td>...</td>\n",
       "      <td>...</td>\n",
       "      <td>...</td>\n",
       "      <td>...</td>\n",
       "      <td>...</td>\n",
       "    </tr>\n",
       "    <tr>\n",
       "      <td>7005</td>\n",
       "      <td>1</td>\n",
       "      <td>267</td>\n",
       "      <td>87</td>\n",
       "      <td>0</td>\n",
       "      <td>0</td>\n",
       "      <td>0</td>\n",
       "      <td>1</td>\n",
       "      <td>1</td>\n",
       "      <td>15.891827</td>\n",
       "      <td>0</td>\n",
       "      <td>...</td>\n",
       "      <td>27.521246</td>\n",
       "      <td>598</td>\n",
       "      <td>4</td>\n",
       "      <td>5</td>\n",
       "      <td>3</td>\n",
       "      <td>1</td>\n",
       "      <td>0</td>\n",
       "      <td>104</td>\n",
       "      <td>105</td>\n",
       "      <td>1</td>\n",
       "    </tr>\n",
       "    <tr>\n",
       "      <td>7006</td>\n",
       "      <td>0</td>\n",
       "      <td>296</td>\n",
       "      <td>77</td>\n",
       "      <td>1</td>\n",
       "      <td>1</td>\n",
       "      <td>1</td>\n",
       "      <td>1</td>\n",
       "      <td>0</td>\n",
       "      <td>5.783338</td>\n",
       "      <td>2</td>\n",
       "      <td>...</td>\n",
       "      <td>21.332449</td>\n",
       "      <td>465</td>\n",
       "      <td>4</td>\n",
       "      <td>4</td>\n",
       "      <td>3</td>\n",
       "      <td>1</td>\n",
       "      <td>0</td>\n",
       "      <td>134</td>\n",
       "      <td>99</td>\n",
       "      <td>4</td>\n",
       "    </tr>\n",
       "    <tr>\n",
       "      <td>7007</td>\n",
       "      <td>0</td>\n",
       "      <td>120</td>\n",
       "      <td>103</td>\n",
       "      <td>1</td>\n",
       "      <td>1</td>\n",
       "      <td>1</td>\n",
       "      <td>1</td>\n",
       "      <td>1</td>\n",
       "      <td>7.345259</td>\n",
       "      <td>1</td>\n",
       "      <td>...</td>\n",
       "      <td>37.465577</td>\n",
       "      <td>674</td>\n",
       "      <td>6</td>\n",
       "      <td>9</td>\n",
       "      <td>0</td>\n",
       "      <td>1</td>\n",
       "      <td>0</td>\n",
       "      <td>134</td>\n",
       "      <td>84</td>\n",
       "      <td>2</td>\n",
       "    </tr>\n",
       "    <tr>\n",
       "      <td>7008</td>\n",
       "      <td>1</td>\n",
       "      <td>147</td>\n",
       "      <td>81</td>\n",
       "      <td>0</td>\n",
       "      <td>0</td>\n",
       "      <td>1</td>\n",
       "      <td>0</td>\n",
       "      <td>1</td>\n",
       "      <td>10.056501</td>\n",
       "      <td>0</td>\n",
       "      <td>...</td>\n",
       "      <td>28.605789</td>\n",
       "      <td>623</td>\n",
       "      <td>7</td>\n",
       "      <td>10</td>\n",
       "      <td>3</td>\n",
       "      <td>0</td>\n",
       "      <td>1</td>\n",
       "      <td>144</td>\n",
       "      <td>76</td>\n",
       "      <td>2</td>\n",
       "    </tr>\n",
       "    <tr>\n",
       "      <td>7009</td>\n",
       "      <td>0</td>\n",
       "      <td>176</td>\n",
       "      <td>56</td>\n",
       "      <td>0</td>\n",
       "      <td>1</td>\n",
       "      <td>1</td>\n",
       "      <td>0</td>\n",
       "      <td>1</td>\n",
       "      <td>13.844626</td>\n",
       "      <td>1</td>\n",
       "      <td>...</td>\n",
       "      <td>22.057046</td>\n",
       "      <td>224</td>\n",
       "      <td>7</td>\n",
       "      <td>10</td>\n",
       "      <td>2</td>\n",
       "      <td>1</td>\n",
       "      <td>0</td>\n",
       "      <td>172</td>\n",
       "      <td>60</td>\n",
       "      <td>3</td>\n",
       "    </tr>\n",
       "  </tbody>\n",
       "</table>\n",
       "<p>7010 rows × 25 columns</p>\n",
       "</div>"
      ],
      "text/plain": [
       "      Sex  Cholesterol  Heart Rate  Diabetes  Family History  Smoking  \\\n",
       "0       0          200          48         0               1        1   \n",
       "1       1          262          46         1               0        1   \n",
       "2       1          140          54         0               1        0   \n",
       "3       1          163          53         0               1        1   \n",
       "4       1          144          92         1               0        1   \n",
       "...   ...          ...         ...       ...             ...      ...   \n",
       "7005    1          267          87         0               0        0   \n",
       "7006    0          296          77         1               1        1   \n",
       "7007    0          120         103         1               1        1   \n",
       "7008    1          147          81         0               0        1   \n",
       "7009    0          176          56         0               1        1   \n",
       "\n",
       "      Obesity  Alcohol Consumption  Exercise Hours Per Week  Diet  ...  \\\n",
       "0           1                    1                 7.807690     0  ...   \n",
       "1           0                    0                17.297628     1  ...   \n",
       "2           0                    1                 8.695288     1  ...   \n",
       "3           1                    1                10.161587     2  ...   \n",
       "4           0                    1                16.436787     2  ...   \n",
       "...       ...                  ...                      ...   ...  ...   \n",
       "7005        1                    1                15.891827     0  ...   \n",
       "7006        1                    0                 5.783338     2  ...   \n",
       "7007        1                    1                 7.345259     1  ...   \n",
       "7008        0                    1                10.056501     0  ...   \n",
       "7009        0                    1                13.844626     1  ...   \n",
       "\n",
       "            BMI  Triglycerides  Physical Activity Days Per Week  \\\n",
       "0     30.449815             63                                6   \n",
       "1     34.973685            333                                7   \n",
       "2     30.554246            537                                2   \n",
       "3     35.390265            591                                0   \n",
       "4     39.575483            145                                2   \n",
       "...         ...            ...                              ...   \n",
       "7005  27.521246            598                                4   \n",
       "7006  21.332449            465                                4   \n",
       "7007  37.465577            674                                6   \n",
       "7008  28.605789            623                                7   \n",
       "7009  22.057046            224                                7   \n",
       "\n",
       "      Sleep Hours Per Day  Continent  Hemisphere  Heart Attack Risk  \\\n",
       "0                       7          0           0                  1   \n",
       "1                       8          1           1                  1   \n",
       "2                      10          2           1                  0   \n",
       "3                       9          3           0                  1   \n",
       "4                       5          3           1                  1   \n",
       "...                   ...        ...         ...                ...   \n",
       "7005                    5          3           1                  0   \n",
       "7006                    4          3           1                  0   \n",
       "7007                    9          0           1                  0   \n",
       "7008                   10          3           0                  1   \n",
       "7009                   10          2           1                  0   \n",
       "\n",
       "      Up Blood Pressure  Down Blood Pressure  Age_group  \n",
       "0                   129                   90          1  \n",
       "1                   159                  105          2  \n",
       "2                   161                  109          0  \n",
       "3                   120                   62          2  \n",
       "4                   153                  110          4  \n",
       "...                 ...                  ...        ...  \n",
       "7005                104                  105          1  \n",
       "7006                134                   99          4  \n",
       "7007                134                   84          2  \n",
       "7008                144                   76          2  \n",
       "7009                172                   60          3  \n",
       "\n",
       "[7010 rows x 25 columns]"
      ]
     },
     "execution_count": 20,
     "metadata": {},
     "output_type": "execute_result"
    }
   ],
   "source": [
    "train = train.drop(columns=['Patient ID','Blood Pressure','Country','Age'], axis = 1)\n",
    "train"
   ]
  },
  {
   "cell_type": "code",
   "execution_count": 21,
   "metadata": {
    "execution": {
     "iopub.execute_input": "2023-10-25T15:07:35.839599Z",
     "iopub.status.busy": "2023-10-25T15:07:35.838293Z",
     "iopub.status.idle": "2023-10-25T15:07:35.846764Z",
     "shell.execute_reply": "2023-10-25T15:07:35.845626Z"
    },
    "papermill": {
     "duration": 0.059463,
     "end_time": "2023-10-25T15:07:35.849247",
     "exception": false,
     "start_time": "2023-10-25T15:07:35.789784",
     "status": "completed"
    },
    "tags": []
   },
   "outputs": [],
   "source": [
    "X= train.drop(columns=[\"Heart Attack Risk\"],axis=1)\n",
    "y= train[\"Heart Attack Risk\"]"
   ]
  },
  {
   "cell_type": "code",
   "execution_count": null,
   "metadata": {},
   "outputs": [],
   "source": []
  },
  {
   "cell_type": "code",
   "execution_count": null,
   "metadata": {},
   "outputs": [],
   "source": []
  },
  {
   "cell_type": "code",
   "execution_count": null,
   "metadata": {},
   "outputs": [],
   "source": []
  },
  {
   "cell_type": "markdown",
   "metadata": {},
   "source": [
    "# Modèles"
   ]
  },
  {
   "cell_type": "code",
   "execution_count": 23,
   "metadata": {},
   "outputs": [],
   "source": [
    "from sklearn.model_selection import train_test_split\n",
    "\n",
    "# Split the data into training and testing sets\n",
    "X_train, X_test, y_train, y_test = train_test_split(X, y, test_size=0.2, random_state=42)"
   ]
  },
  {
   "cell_type": "code",
   "execution_count": 39,
   "metadata": {},
   "outputs": [
    {
     "name": "stdout",
     "output_type": "stream",
     "text": [
      "Best Lasso Parameters:  {'alpha': 1.0}\n",
      "Best Ridge Parameters:  {'alpha': 1.0}\n",
      "Rounded Predictions    float64\n",
      "dtype: object\n",
      "Rounded Predictions    float64\n",
      "dtype: object\n",
      "Logistic Regression Classification Report: \n",
      "               precision    recall  f1-score   support\n",
      "\n",
      "           0       0.64      1.00      0.78       901\n",
      "           1       0.00      0.00      0.00       501\n",
      "\n",
      "    accuracy                           0.64      1402\n",
      "   macro avg       0.32      0.50      0.39      1402\n",
      "weighted avg       0.41      0.64      0.50      1402\n",
      "\n",
      "Confusion Matrix for Logistic Regression: \n",
      " [[901   0]\n",
      " [501   0]]\n",
      "Lasso Regression Classification Report: \n",
      "               precision    recall  f1-score   support\n",
      "\n",
      "           0       0.64      1.00      0.78       901\n",
      "           1       0.00      0.00      0.00       501\n",
      "\n",
      "    accuracy                           0.64      1402\n",
      "   macro avg       0.32      0.50      0.39      1402\n",
      "weighted avg       0.41      0.64      0.50      1402\n",
      "\n",
      "Confusion Matrix for Lasso Regression: \n",
      " [[901   0]\n",
      " [501   0]]\n",
      "Lasso Regression Classification Report: \n",
      "               precision    recall  f1-score   support\n",
      "\n",
      "           0       0.64      1.00      0.78       901\n",
      "           1       0.00      0.00      0.00       501\n",
      "\n",
      "    accuracy                           0.64      1402\n",
      "   macro avg       0.32      0.50      0.39      1402\n",
      "weighted avg       0.41      0.64      0.50      1402\n",
      "\n",
      "Confusion Matrix for Lasso Regression: \n",
      " [[901   0]\n",
      " [501   0]]\n"
     ]
    },
    {
     "name": "stderr",
     "output_type": "stream",
     "text": [
      "D:\\Anaconda\\lib\\site-packages\\sklearn\\metrics\\classification.py:1437: UndefinedMetricWarning: Precision and F-score are ill-defined and being set to 0.0 in labels with no predicted samples.\n",
      "  'precision', 'predicted', average, warn_for)\n"
     ]
    },
    {
     "data": {
      "image/png": "[encoded data removed]",
      "text/plain": [
       "<Figure size 864x216 with 6 Axes>"
      ]
     },
     "metadata": {
      "needs_background": "light"
     },
     "output_type": "display_data"
    }
   ],
   "source": [
    "from sklearn.linear_model import LogisticRegression, Lasso, Ridge\n",
    "from sklearn.model_selection import cross_val_score, GridSearchCV\n",
    "from sklearn.metrics import classification_report, confusion_matrix\n",
    "import matplotlib.pyplot as plt\n",
    "import seaborn as sns\n",
    "import pandas as pd\n",
    "from sklearn.linear_model import LogisticRegression\n",
    "\n",
    "log_reg = LogisticRegression(solver='lbfgs', multi_class='multinomial')\n",
    "\n",
    "# Define parameter grids for Lasso and Ridge regression\n",
    "lasso_params = {'alpha': [0.1, 0.2, 0.4, 0.6, 0.8, 1.0]}\n",
    "ridge_params = {'alpha': [0.1, 0.2, 0.4, 0.6, 0.8, 1.0]}\n",
    "\n",
    "# Grid Search to find the best parameters for Lasso and Ridge regression\n",
    "lasso_grid = GridSearchCV(Lasso(), lasso_params, cv=5)\n",
    "ridge_grid = GridSearchCV(Ridge(), ridge_params, cv=5)\n",
    "\n",
    "lasso_grid.fit(X_train, y_train)\n",
    "ridge_grid.fit(X_train, y_train)\n",
    "\n",
    "print(\"Best Lasso Parameters: \", lasso_grid.best_params_)\n",
    "print(\"Best Ridge Parameters: \", ridge_grid.best_params_)\n",
    "\n",
    "# Train models with best parameters\n",
    "lasso_best = Lasso(alpha=lasso_grid.best_params_['alpha'])\n",
    "ridge_best = Ridge(alpha=ridge_grid.best_params_['alpha'])\n",
    "\n",
    "log_reg.fit(X_train, y_train)\n",
    "lasso_best.fit(X_train, y_train)\n",
    "ridge_best.fit(X_train, y_train)\n",
    "\n",
    "# Make predictions\n",
    "y_pred_log_reg = log_reg.predict(X_test)\n",
    "y_pred_lasso = lasso_best.predict(X_test)\n",
    "y_pred_ridge = ridge_best.predict(X_test)\n",
    "\n",
    "# Round the continuous values in y_pred_lasso and ridge to the nearest integer\n",
    "y_pred_lasso_rounded = y_pred_lasso.round()\n",
    "y_pred_ridge_rounded = y_pred_ridge.round()\n",
    "\n",
    "# Convert the numpy array to a pandas dataframe\n",
    "y_pred_lasso_rounded_df = pd.DataFrame(y_pred_lasso_rounded, columns=['Rounded Predictions'])\n",
    "y_pred_ridge_rounded_df = pd.DataFrame(y_pred_ridge_rounded, columns=['Rounded Predictions'])\n",
    "\n",
    "\n",
    "# Check the updated data types\n",
    "print(y_pred_ridge_rounded_df.dtypes)\n",
    "print(y_pred_lasso_rounded_df.dtypes)\n",
    "\n",
    "\n",
    "# Compare performance using classification report and confusion matrix\n",
    "print(\"Logistic Regression Classification Report: \\n\", classification_report(y_test, y_pred_log_reg))\n",
    "print(\"Confusion Matrix for Logistic Regression: \\n\", confusion_matrix(y_test, y_pred_log_reg))\n",
    "\n",
    "print(\"Lasso Regression Classification Report: \\n\", classification_report(y_test, y_pred_lasso_rounded_df))\n",
    "print(\"Confusion Matrix for Lasso Regression: \\n\", confusion_matrix(y_test, y_pred_lasso_rounded_df))\n",
    "\n",
    "print(\"Lasso Regression Classification Report: \\n\", classification_report(y_test, y_pred_ridge_rounded_df))\n",
    "print(\"Confusion Matrix for Lasso Regression: \\n\", confusion_matrix(y_test, y_pred_ridge_rounded_df))\n",
    "\n",
    "# Plot confusion matrices\n",
    "plt.figure(figsize=(12, 3))\n",
    "\n",
    "plt.subplot(131)\n",
    "sns.heatmap(confusion_matrix(y_test, y_pred_log_reg), annot=True, cmap='Blues')\n",
    "plt.title('Logistic Regression Confusion Matrix')\n",
    "\n",
    "plt.subplot(132)\n",
    "#sns.heatmap(confusion_matrix(y_test, y_pred_lasso), annot=True, cmap='Blues')\n",
    "sns.heatmap(confusion_matrix(y_test, y_pred_lasso_rounded_df), annot=True, cmap='Blues')\n",
    "\n",
    "plt.title('Lasso Regression Confusion Matrix')\n",
    "\n",
    "plt.subplot(133)\n",
    "#sns.heatmap(confusion_matrix(y_test, y_pred_ridge), annot=True, cmap='Blues')\n",
    "sns.heatmap(confusion_matrix(y_test, y_pred_ridge_rounded_df), annot=True, cmap='Blues')\n",
    "\n",
    "plt.title('Ridge Regression Confusion Matrix')\n",
    "\n",
    "plt.show()"
   ]
  },
  {
   "cell_type": "code",
   "execution_count": null,
   "metadata": {},
   "outputs": [],
   "source": []
  },
  {
   "cell_type": "code",
   "execution_count": null,
   "metadata": {},
   "outputs": [],
   "source": []
  },
  {
   "cell_type": "code",
   "execution_count": null,
   "metadata": {},
   "outputs": [],
   "source": []
  }
 ],
 "metadata": {
  "kernelspec": {
   "display_name": "Python 3",
   "language": "python",
   "name": "python3"
  },
  "language_info": {
   "codemirror_mode": {
    "name": "ipython",
    "version": 3
   },
   "file_extension": ".py",
   "mimetype": "text/x-python",
   "name": "python",
   "nbconvert_exporter": "python",
   "pygments_lexer": "ipython3",
   "version": "3.7.4"
  },
  "papermill": {
   "default_parameters": {},
   "duration": 80.159916,
   "end_time": "2023-10-25T15:08:33.879888",
   "environment_variables": {},
   "exception": null,
   "input_path": "__notebook__.ipynb",
   "output_path": "__notebook__.ipynb",
   "parameters": {},
   "start_time": "2023-10-25T15:07:13.719972",
   "version": "2.4.0"
  }
 },
 "nbformat": 4,
 "nbformat_minor": 5
}
