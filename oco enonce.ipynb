{
  "cells": [
    {
      "cell_type": "markdown",
      "metadata": {
        "id": "-fkXm-1Q9QZz"
      },
      "source": [
        "# M2 ISDS Online Convex Opitmization\n",
        "\n",
        "# Homework\n",
        "\n",
        "Contact: Pierre Gaillard, pierre.gaillard@inria.fr\n",
        "         Joseph de Vilmarest, joseph.de-vilmarest@vikingconseil.fr\n"
      ]
    },
    {
      "cell_type": "markdown",
      "metadata": {
        "id": "sYpjEGBmL0g1"
      },
      "source": [
        "## Part I. Rock Paper Scissors"
      ]
    },
    {
      "cell_type": "code",
      "execution_count": null,
      "metadata": {
        "id": "p2c6VgHxECxw"
      },
      "outputs": [],
      "source": [
        "import numpy as np\n",
        "import matplotlib.pyplot as plt\n",
        "\n",
        "# Number of actions\n",
        "M=3\n",
        "names = [\"Rock\", \"Paper\", \"Scissors\"]\n",
        "# Solutions only for M=3, the Lizard and Spock got lost somewhere in Chartreuse, and the Well is haunted.\n",
        "p_init = np.array([1/M for i in range(M)])"
      ]
    },
    {
      "cell_type": "markdown",
      "metadata": {
        "id": "trcHY78F9948"
      },
      "source": [
        "---\n",
        "## Setting\n",
        "We consider the sequential version of the following repeated two-players, zero-sum game.\n",
        "\n",
        "Let $M\\in\\mathbb{N}$ be a number of actions, $L\\in[-1, 1]^{M\\times M}$ be a loss matrix, and $T\\in\\mathbb{N}^*$ be a time horizon. \\\\\n",
        "At each round $t=1, \\dots, T$:\n",
        "- The player chooses a distribution $p_t\\in \\Delta_M:=\\{p\\in[0, 1]^M,\\ \\sum_{i=1}^M p_i=1\\}$.\n",
        "- The adversary chooses a distribution $q_t\\in\\Delta_M$.\n",
        "- Actions $i_t \\sim p_t$ and $j_t\\sim q_t$ are sampled for the player and the adversary.\n",
        "- The player incurr the loss $l_t=L(i_t, j_t)$ and the adversary $-L(i_t, j_t)$.\n",
        "\n",
        "BEWARE: The adversary choses its vector after the player, and can chose its distribution using the one of the player!"
      ]
    },
    {
      "cell_type": "markdown",
      "metadata": {
        "id": "IUTW9GttFAl2"
      },
      "source": [
        "#### Question 1.\n",
        "Let's assume that a win yields a loss $-1$, and a tie, $0$. What is the loss matrix $L$ of \"Rock, Paper, Scissors\"?\n",
        "\n",
        "\n",
        "(If you are bored, change the first cell of this document and add the Lizard, Spock and/or the Well, but I have not done it myself. You can also change the matrix so that losing/wining with a particular action is more costly than others)"
      ]
    },
    {
      "cell_type": "code",
      "execution_count": null,
      "metadata": {
        "id": "u-MfeGQI70xp"
      },
      "outputs": [],
      "source": [
        "# Replace L with the right expression.\n",
        "L = None # an np array of shape (M, M)"
      ]
    },
    {
      "cell_type": "markdown",
      "metadata": {
        "id": "__2Y2kfOK7O-"
      },
      "source": [
        "---\n",
        "We assume that both the player and the adversary know $L$ in advance.\n",
        "\n",
        "#### Question 2.a.\n",
        "Given a distribution $p\\in\\Delta_M$, implement the function returning an action (in $0, \\dots, M-1$ because python is $0$-indexed)."
      ]
    },
    {
      "cell_type": "code",
      "execution_count": null,
      "metadata": {
        "id": "EV5ytjBoKrHU"
      },
      "outputs": [],
      "source": [
        "def sample_action(p):\n",
        "  # p: an np.array of shape (M,); vector of weights in Delta_M\n",
        "  # Returns: An integer in 0, ..., M-1; sampled according to p\n",
        "\n",
        "  # Hint: you only need to sample a uniform distribution in [0, 1], use np.random.rand() only once.\n",
        "\n",
        "  # ---\n",
        "  # ADD YOUR CODE HERE\n",
        "  # ---\n",
        "  return"
      ]
    },
    {
      "cell_type": "markdown",
      "metadata": {
        "id": "yCBjsLWAR-My"
      },
      "source": [
        "### Exponential Weighted Average\n",
        "We assume that the player uses an Exponential Weighted Average (EWA) strategy with learning rate $\\eta>0$.\n",
        "\n",
        "We denote $p_t\\in\\Delta_M$ the distribution chosen by the player at round $t\\in1, \\dots, T$ and $l_t\\in[-1, 1]^M$ the loss vector of this round. For round $t+1$, the new distribution defined by this strategy is defined, for all $i\\in 1, \\dots, M$ as:\n",
        "$$p_{t+1}(i) = \\frac{p_t(i)\\exp\\big(-\\eta l_t(i)\\big)}{\\sum_{j=1}^Mp_t(j)\\exp\\big(-\\eta l_t(j)\\big)}$$\n",
        "\n",
        "#### Question 2.b\n",
        "Define the function EWA_update that takese as input a learning rate $\\eta$, a vector $p_t$ and a loss vector $l_t$ and return $p_{t+1}$."
      ]
    },
    {
      "cell_type": "code",
      "execution_count": null,
      "metadata": {
        "id": "0WqKLjJZM_GA"
      },
      "outputs": [],
      "source": [
        "def EWA_update(eta, p, l):\n",
        "  # eta: learning rate\n",
        "  # p: an np.array of shape (M,); vector of weights in Delta_M; to be updated\n",
        "  # l: an np.array of shape (M,); vector of losses in [-1, 1]^M incurred by the player\n",
        "  # Returns: an np.array of shape (M,); p updated with the loss l\n",
        "\n",
        "  # ---\n",
        "  # ADD YOUR CODE HERE\n",
        "  # ---\n",
        "  return"
      ]
    },
    {
      "cell_type": "markdown",
      "metadata": {
        "id": "1ULcbdEXVOzl"
      },
      "source": [
        "### Part 1.1. Beating a fixed adversary\n",
        "We assume that the adversary uses a fixed distribution vector : $q_{fixed}=(1/3, 1/6, 1/2)$, unknown to us. Let's see how EWA fares.\n",
        "\n",
        "BEWARE: There can be several types of adversary. We first look at a \"fixed\" adversary who does not change. But in the worst case, the adversary can be aware of the strategy of the player. An in-between is a \"player-like\" adversary who adapt its strategy taking into consideration its own past actions and losses. To account for all these possibilities, the adversary decision is implemented as a function taking in argument:\n",
        "- a learning rate\n",
        "- the vector player by the adversary in the round before,\n",
        "- the loss incurred by him the round before,\n",
        "- the current decision of the player.\n",
        "\n",
        "If the adversary needs to make an update using an incurred loss at round t (just like EWA), he does it in the round t+1 after the player chose its vector.\n"
      ]
    },
    {
      "cell_type": "code",
      "execution_count": null,
      "metadata": {
        "id": "OxnxD7tRNG9B"
      },
      "outputs": [],
      "source": [
        "q_fixed = np.array([1/3, 1/6, 1/2])\n",
        "\n",
        "def fixed_adversary_update(eta_adv, q, l, p):\n",
        "  # eta_adv: learning rate for the adversary\n",
        "  # q: an np.array of shape (M,); vector of weights in Delta_M used in round t-1 by the adversary\n",
        "  # l: an np.array of shape (M,t); vector of losses in [-1, 1]^M incurred by the adversary\n",
        "  # p: an np.array of shape (M,); vector of weights in Delta_M used in round t by the player\n",
        "  # Returns: q_fixed\n",
        "\n",
        "  return q_fixed"
      ]
    },
    {
      "cell_type": "markdown",
      "metadata": {
        "id": "1bahBqAgm_EX"
      },
      "source": [
        "#### Question 3.a.\n",
        "Simulate an instance of the game for $T=100$ rounds and a learning rate $\\eta=1$. Plot the evolution of the weight vector. What seems to be the best strategy?"
      ]
    },
    {
      "cell_type": "code",
      "execution_count": null,
      "metadata": {
        "id": "WYrXUAYQNHsi"
      },
      "outputs": [],
      "source": [
        "def single_run(T, update_fct, eta, adversary_update, eta_adv):\n",
        "  # T: horizon\n",
        "  # update_fct: function (eta, p, l) -> p, updating p with the loss for the player\n",
        "  # eta: learning rate for the player\n",
        "  # adversary_update: function (eta_adv, q, l, p) -> q, updating q with the a loss for the adversary\n",
        "  # eta_adv: learning rate for the adversary\n",
        "  # Returns: {\"weigths_player\": np.array((T, M)), \"loss_player_logs\": np.array((T,)), \"weigths_adv\": np.array((T, M))}\n",
        "\n",
        "  p = p_init\n",
        "  q = p_init\n",
        "  weights_player = np.zeros((T, M))\n",
        "  loss_player_logs = np.zeros((T,))\n",
        "  weights_adv = np.zeros((T, M))\n",
        "  loss_player = None # array(M,)\n",
        "  loss_adversary = None # array(M,)\n",
        "  for t in range(T):\n",
        "    # ---\n",
        "    # ADD YOUR CODE HERE\n",
        "    # See the setting\n",
        "    # ---\n",
        "    pass\n",
        "  return{\"weights_player\": weights_player,\n",
        "         \"loss_player_logs\": loss_player_logs,\n",
        "         \"weights_adv\": weights_adv}"
      ]
    },
    {
      "cell_type": "code",
      "execution_count": null,
      "metadata": {
        "id": "uPGcZfBSO93d"
      },
      "outputs": [],
      "source": [
        "T=100\n",
        "eta = 1\n",
        "eta_adv = 1\n",
        "\n",
        "results = single_run(T, EWA_update, eta, fixed_adversary_update, eta_adv)"
      ]
    },
    {
      "cell_type": "markdown",
      "metadata": {
        "id": "OI5Dy2SdL0hP"
      },
      "source": [
        "#### Question 3.b..\n",
        "Plot the weights $p_t$ over time of EWA agains the fixed adversary."
      ]
    },
    {
      "cell_type": "code",
      "execution_count": null,
      "metadata": {
        "colab": {
          "base_uri": "https://localhost:8080/",
          "height": 469
        },
        "id": "5KA5cO4aovP_",
        "outputId": "4d6d2dfc-2654-4fb6-8402-8dbde56f00e7"
      },
      "outputs": [
        {
          "data": {
            "text/plain": [
              "Text(0.5, 1.0, 'Action weights over time against a fixed adversary')"
            ]
          },
          "execution_count": 8,
          "metadata": {},
          "output_type": "execute_result"
        },
        {
          "data": {
            "image/png": "[encoded data removed]",
            "text/plain": [
              "<Figure size 640x480 with 1 Axes>"
            ]
          },
          "metadata": {},
          "output_type": "display_data"
        }
      ],
      "source": [
        "plt.title(\"Action weights over time against a fixed adversary\")\n",
        "# ---\n",
        "# ADD YOUR CODE HERE\n",
        "# ---"
      ]
    },
    {
      "cell_type": "markdown",
      "metadata": {
        "id": "2IPoCKMA0Iuv"
      },
      "source": [
        "#### Question 3.c.\n",
        "Repeat the experiment $n_{exp}=200$ times, for an horizon of $T=100$ rounds. Plot the average loss $\\bar{l}_t = \\frac{1}{t}\\sum_{s=1}^tL(i_s, j_s)$ with respect to time (averaged over the experiments). Comment."
      ]
    },
    {
      "cell_type": "code",
      "execution_count": null,
      "metadata": {
        "id": "4PCHNgBX392z"
      },
      "outputs": [],
      "source": [
        "def runs_experiment(T, update_fct, eta, adversary_update, eta_adv, n_exp):\n",
        "  # T: horizon\n",
        "  # update_fct: function (eta, p, l) -> p, updating p with the loss\n",
        "  # eta: learning rate\n",
        "  # adversary_update: function (eta_adv, q, l, p) -> q, updating q with the loss for the adversary\n",
        "  # eta_adv: learning rate for the adversary\n",
        "  # n_exp: number of runs\n",
        "  # Returns: {\"weigths_player\": np.array((n_exp, T, M)), \"loss_player_logs\": np.array((n_exp, T)), \"weigths_adv\": np.array((n_exp, T, M))}\n",
        "\n",
        "  weights_player = np.zeros((n_exp, T, M))\n",
        "  loss_player_logs = np.zeros((n_exp, T))\n",
        "  weights_adv = np.zeros((n_exp, T, M))\n",
        "  for n in range(n_exp):\n",
        "    # ---\n",
        "    # ADD YOUR CODE HERE\n",
        "    # Run single experiments and log the results\n",
        "    # ---\n",
        "    pass\n",
        "  return{\"weights_player\": weights_player,\n",
        "         \"loss_player_logs\": loss_player_logs,\n",
        "         \"weights_adv\": weights_adv}"
      ]
    },
    {
      "cell_type": "code",
      "execution_count": null,
      "metadata": {
        "id": "aO4bO3ZeTW8o"
      },
      "outputs": [],
      "source": [
        "T=100\n",
        "eta = 1\n",
        "eta_adv = 1\n",
        "n_exp = 200\n",
        "\n",
        "results = runs_experiment(T, EWA_update, eta, fixed_adversary_update, eta_adv, n_exp)"
      ]
    },
    {
      "cell_type": "code",
      "execution_count": null,
      "metadata": {
        "colab": {
          "base_uri": "https://localhost:8080/",
          "height": 469
        },
        "id": "8pIEJ09aNx5s",
        "outputId": "92a67019-ad4a-4afb-da32-06961a80c59e"
      },
      "outputs": [
        {
          "data": {
            "text/plain": [
              "Text(0.5, 1.0, 'Average loss against a fixed adversary')"
            ]
          },
          "execution_count": 11,
          "metadata": {},
          "output_type": "execute_result"
        },
        {
          "data": {
            "image/png": "[encoded data removed]",
            "text/plain": [
              "<Figure size 640x480 with 1 Axes>"
            ]
          },
          "metadata": {},
          "output_type": "display_data"
        }
      ],
      "source": [
        "plt.title(\"Average loss against a fixed adversary\")\n",
        "# ---\n",
        "# ADD YOUR CODE HERE\n",
        "# ---"
      ]
    },
    {
      "cell_type": "markdown",
      "metadata": {
        "id": "XWPw2ibR0vi3"
      },
      "source": [
        "#### Question 3.d.\n",
        "Repeat the simulations for different learning rates $\\eta\\in\\{0.01, 0.05, 0.5, 1\\}$. What are the best learning rate in practice and in theory?"
      ]
    },
    {
      "cell_type": "code",
      "execution_count": null,
      "metadata": {
        "id": "Cq1EPVXBzUO5"
      },
      "outputs": [],
      "source": [
        "T=100\n",
        "eta_theory = None # Add the theoretical value here\n",
        "eta_theory"
      ]
    },
    {
      "cell_type": "code",
      "execution_count": null,
      "metadata": {
        "id": "LkgV6c7Q1I8v"
      },
      "outputs": [],
      "source": [
        "def eta_experiments(T, update_fct, eta_list, adversary_update, eta_adv, n_exp):\n",
        "  # T: horizon\n",
        "  # update_fct: function (eta, p, l) -> p, updating p with the loss\n",
        "  # eta_list: list of learning rates to test\n",
        "  # adversary_update: function (eta_adv, q, p, l) -> q, updating q with the a loss for the adversary\n",
        "  # eta_adv: learning rate for the adversary\n",
        "  # n_exp: number of runs\n",
        "  # Returns: {\"weigths_player\": np.array((len(eta_list), n_exp, T, M)), \"incurred_loss\": np.array((len(eta_list), n_exp, T))}\n",
        "\n",
        "  weights_player = np.zeros((len(eta_list), n_exp, T, M))\n",
        "  loss_player_logs = np.zeros((len(eta_list), n_exp, T))\n",
        "  for e in range(len(eta_list)):\n",
        "    eta = eta_list[e]\n",
        "    # ---\n",
        "    # ADD YOUR CODE HERE\n",
        "    # ---\n",
        "\n",
        "  return{\"weights_player\": weights_player,\n",
        "         \"loss_player_logs\": loss_player_logs}"
      ]
    },
    {
      "cell_type": "code",
      "execution_count": null,
      "metadata": {
        "id": "c_w4CSRGWcXp"
      },
      "outputs": [],
      "source": [
        "T=100\n",
        "eta_list = [0.01, 0.03, 0.1, 0.3, 1]\n",
        "eta_adv = 1\n",
        "n_exp = 200\n",
        "\n",
        "results = eta_experiments(T, EWA_update, eta_list, fixed_adversary_update, eta_adv, n_exp)"
      ]
    },
    {
      "cell_type": "code",
      "execution_count": null,
      "metadata": {
        "colab": {
          "base_uri": "https://localhost:8080/",
          "height": 469
        },
        "id": "TAiwTqJy1J6l",
        "outputId": "ded8ed3f-dc8f-416f-cf3d-83a7d43a1983"
      },
      "outputs": [
        {
          "data": {
            "text/plain": [
              "Text(0.5, 1.0, 'Average loss with constant adversary')"
            ]
          },
          "execution_count": 15,
          "metadata": {},
          "output_type": "execute_result"
        },
        {
          "data": {
            "image/png": "[encoded data removed]",
            "text/plain": [
              "<Figure size 640x480 with 1 Axes>"
            ]
          },
          "metadata": {},
          "output_type": "display_data"
        }
      ],
      "source": [
        "plt.title(\"Average loss with constant adversary\")\n",
        "# ---\n",
        "# ADD YOUR CODE HERE\n",
        "# ---"
      ]
    },
    {
      "cell_type": "markdown",
      "metadata": {
        "id": "o2zyFDA49rWw"
      },
      "source": [
        "### Part 1.3. Online Gradient Descent\n",
        "Now let's implement Online Gradient Descent (OGD), to eventually have it play against EWA.\n",
        "\n",
        "For a learning rate $\\eta>0$, we remind that the update of OGD proceeds as:\n",
        "$$p_{t+1} = \\Pi_{\\Delta_M}\\big(p_t-\\eta\\nabla l_t(p_t)\\big)$$\n",
        "where:\n",
        "- $\\Pi_{\\Delta_M}$ denotes the projection on the unit simplex in dimension $M$,\n",
        "- $l_t:x\\in\\Delta_M\\mapsto \\sum_{i=1}^M x(i)L(i,j_t)\\in[-1, 1]$ where $j_t$ is the choice of the adversary."
      ]
    },
    {
      "cell_type": "markdown",
      "metadata": {
        "id": "rPJC-TFSop1J"
      },
      "source": [
        "#### Projection on the unit simplex\n",
        "\n",
        "Here is a simple algorithm to implement (Source at the end of the document).\n",
        "\n",
        "Let $x=\\big(x(i)\\big)\\in\\mathbb{R}^M$,\n",
        "- Sort the coordinates of x into $y_1\\geq y_2\\geq\\dots\\geq y_M$,\n",
        "- Find\n",
        "$$ \\rho=\\max\\Big\\{j\\in 1,\\dots,M:\\ y_j-\\frac{1}{j}\\big(\\sum_{r=1}^jy_r-1\\big)>0\\Big\\},$$\n",
        "- Define $z = \\frac{1}{\\rho}\\big(\\sum_{r=1}^jy_r-1\\big)$,\n",
        "- Return, for all $i=1, \\dots,M$\n",
        "$$\\big(\\Pi_{\\Delta_M}(x)\\big)(i) = \\max\\big\\{x(i)-z, 0\\big\\}$$\n",
        "\n",
        "#### Question 4.a. Define the projection function"
      ]
    },
    {
      "cell_type": "code",
      "execution_count": null,
      "metadata": {
        "id": "_3IP4I6A2hir"
      },
      "outputs": [],
      "source": [
        "# Projection on the simplex.\n",
        "def proj_simplex(p):\n",
        "  # p: vector in R^M\n",
        "  # Returns: a vector in Delta_M\n",
        "\n",
        "  # ---\n",
        "  # ADD YOUR CODE HERE\n",
        "  # ---\n",
        "  return"
      ]
    },
    {
      "cell_type": "markdown",
      "metadata": {
        "id": "UXu7T8ewwowu"
      },
      "source": [
        "#### OGD Implementation\n",
        "We can now implement OGD.\n",
        "\n",
        "#### Question 4.b.\n",
        "Implement OGD update."
      ]
    },
    {
      "cell_type": "code",
      "execution_count": null,
      "metadata": {
        "id": "pYawwCJz3lY_"
      },
      "outputs": [],
      "source": [
        "def OGD_update(eta, p, l, q=None):\n",
        "  # eta: learning rate\n",
        "  # p: an np.array of shape (M,); vector of weights in Delta_M; to be updated\n",
        "  # l: an np.array of shape (M,); vector of losses in [-1, 1]^M\n",
        "  # q: weights used by the player, (when OGD is used as the adversary)\n",
        "  # Returns: an np.array of shape (M,); p updated with the loss l\n",
        "\n",
        "  if l is None:\n",
        "    # Case for the first round when OGD is used as an adversary\n",
        "    # ---\n",
        "    # ADD YOUR CODE HERE\n",
        "    # ---\n",
        "    pass\n",
        "  else:\n",
        "    # ---\n",
        "    # ADD YOUR CODE HERE\n",
        "    # ---\n",
        "    pass\n",
        "  return"
      ]
    },
    {
      "cell_type": "markdown",
      "metadata": {
        "id": "GQwt1DlFs6Om"
      },
      "source": [
        "### EWA VS OGD\n",
        "\n",
        "Run experiments with EWA facing OGD."
      ]
    },
    {
      "cell_type": "code",
      "execution_count": null,
      "metadata": {
        "id": "RTsnz_UstxqR"
      },
      "outputs": [],
      "source": [
        "T=100\n",
        "eta_EWA = 0.1\n",
        "eta_OGD = 0.1\n",
        "n_exp = 200\n",
        "\n",
        "results = runs_experiment(T, EWA_update, eta_EWA, OGD_update, eta_OGD, n_exp)"
      ]
    },
    {
      "cell_type": "markdown",
      "metadata": {
        "id": "e9IwSfPEzRAB"
      },
      "source": [
        "\n",
        "#### Question 5.\n",
        "We define $\\bar{p}_t = \\frac{1}{t}\\sum_{s=1}^t p_s$. Plot the Euclidian distance of this vector to the point $(1/3, 1/3, 1/3)$ for both strategies. What do you observe?"
      ]
    },
    {
      "cell_type": "code",
      "execution_count": null,
      "metadata": {
        "id": "z8TSvX4Xxyzy"
      },
      "outputs": [],
      "source": [
        "# ---\n",
        "# ADD YOUR CODE HERE\n",
        "# ---"
      ]
    },
    {
      "cell_type": "markdown",
      "metadata": {
        "id": "U6xFzMOWL0hm"
      },
      "source": [
        "## Part II. MNIST"
      ]
    },
    {
      "cell_type": "code",
      "execution_count": null,
      "metadata": {
        "id": "XxBptvKpL0hn"
      },
      "outputs": [],
      "source": [
        "import matplotlib.pyplot as plt\n",
        "import numpy as np\n",
        "import glob\n",
        "from pathlib import Path"
      ]
    },
    {
      "cell_type": "code",
      "execution_count": null,
      "metadata": {
        "id": "Yljp8_J-L0ho"
      },
      "outputs": [],
      "source": [
        "folder_path = \"data_letters/\"\n",
        "file_regex = folder_path + \"*/*.png\"\n",
        "L_files = glob.glob(file_regex, recursive=True)"
      ]
    },
    {
      "cell_type": "code",
      "execution_count": null,
      "metadata": {
        "id": "mhcgF7pLL0hp"
      },
      "outputs": [],
      "source": [
        "def get_label(path: str):\n",
        "    letter = path[0]\n",
        "    if letter == \"A\":\n",
        "        return 1\n",
        "    elif letter == \"B\" or letter == \"C\":\n",
        "        return -1\n",
        "    else:\n",
        "        raise Exception(\"Letter not recognized\")"
      ]
    },
    {
      "cell_type": "code",
      "execution_count": null,
      "metadata": {
        "id": "7Ef0pQqTL0hz"
      },
      "outputs": [],
      "source": [
        "X_raw = []\n",
        "Y_raw = []\n",
        "for file_path in L_files:\n",
        "    img = np.array(plt.imread(file_path))\n",
        "    img_label = get_label(Path(file_path).name)\n",
        "    X_raw.append(img)\n",
        "    Y_raw.append(img_label)"
      ]
    },
    {
      "cell_type": "code",
      "execution_count": null,
      "metadata": {
        "id": "DYUJPWFAL0hz"
      },
      "outputs": [],
      "source": [
        "# transforming images to vectors\n",
        "X_raw = [X_raw[i].reshape(28*28) for i in range(len(X_raw))]"
      ]
    },
    {
      "cell_type": "code",
      "execution_count": null,
      "metadata": {
        "id": "a74XdsLXL0h0"
      },
      "outputs": [],
      "source": [
        "np.random.seed(0)\n",
        "perm = np.random.permutation(len(X_raw))\n",
        "X = [X_raw[perm[i]] for i in range(len(X_raw))]\n",
        "Y = [Y_raw[perm[i]] for i in range(len(Y_raw))]"
      ]
    },
    {
      "cell_type": "code",
      "execution_count": null,
      "metadata": {
        "id": "wwugEJQ6L0h0"
      },
      "outputs": [],
      "source": [
        "def loss_01(y, x, theta):\n",
        "    # 0-1 loss\n",
        "    # ADD YOUR CODE HERE\n",
        "def loss_logistic(y, x, theta):\n",
        "    # logistic loss\n",
        "    # ADD YOUR CODE HERE"
      ]
    },
    {
      "cell_type": "code",
      "execution_count": null,
      "metadata": {
        "id": "J1YrOiTBL0h1"
      },
      "outputs": [],
      "source": [
        "def gradient_logistic(y, x, theta):\n",
        "    # ADD YOUR CODE HERE\n",
        "def hessian_logistic(y, x, theta):\n",
        "    # ADD YOUR CODE HERE"
      ]
    },
    {
      "cell_type": "markdown",
      "metadata": {
        "id": "HXPm5UaZppkU"
      },
      "source": [
        "# References\n",
        "- Sequential Learning Homework, Master MVA, 2021-2022, P. Gaillard & R. Degenne\n",
        "- Duchi, J., Shalev-Shwartz, S., Singer, Y., & Chandra, T. (2008, July). Efficient projections onto the l 1-ball for learning in high dimensions. In Proceedings of the 25th international conference on Machine learning (pp. 272-279)."
      ]
    }
  ],
  "metadata": {
    "colab": {
      "provenance": [],
      "toc_visible": true
    },
    "kernelspec": {
      "display_name": "Python 3 (ipykernel)",
      "language": "python",
      "name": "python3"
    },
    "language_info": {
      "codemirror_mode": {
        "name": "ipython",
        "version": 3
      },
      "file_extension": ".py",
      "mimetype": "text/x-python",
      "name": "python",
      "nbconvert_exporter": "python",
      "pygments_lexer": "ipython3",
      "version": "3.9.7"
    }
  },
  "nbformat": 4,
  "nbformat_minor": 0
}